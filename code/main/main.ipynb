{
 "cells": [
  {
   "cell_type": "code",
   "execution_count": 1,
   "metadata": {},
   "outputs": [],
   "source": [
    "import os\n",
    "import cv2\n",
    "from ultralytics import YOLO"
   ]
  },
  {
   "cell_type": "markdown",
   "metadata": {},
   "source": [
    "### Train YOLO"
   ]
  },
  {
   "cell_type": "code",
   "execution_count": 2,
   "metadata": {},
   "outputs": [
    {
     "name": "stderr",
     "output_type": "stream",
     "text": [
      "\n",
      "                   from  n    params  module                                       arguments                     \n",
      "  0                  -1  1       464  ultralytics.nn.modules.conv.Conv             [3, 16, 3, 2]                 \n",
      "  1                  -1  1      4672  ultralytics.nn.modules.conv.Conv             [16, 32, 3, 2]                \n",
      "  2                  -1  1      7360  ultralytics.nn.modules.block.C2f             [32, 32, 1, True]             \n",
      "  3                  -1  1     18560  ultralytics.nn.modules.conv.Conv             [32, 64, 3, 2]                \n",
      "  4                  -1  2     49664  ultralytics.nn.modules.block.C2f             [64, 64, 2, True]             \n",
      "  5                  -1  1     73984  ultralytics.nn.modules.conv.Conv             [64, 128, 3, 2]               \n",
      "  6                  -1  2    197632  ultralytics.nn.modules.block.C2f             [128, 128, 2, True]           \n",
      "  7                  -1  1    295424  ultralytics.nn.modules.conv.Conv             [128, 256, 3, 2]              \n",
      "  8                  -1  1    460288  ultralytics.nn.modules.block.C2f             [256, 256, 1, True]           \n",
      "  9                  -1  1    164608  ultralytics.nn.modules.block.SPPF            [256, 256, 5]                 \n",
      " 10                  -1  1         0  torch.nn.modules.upsampling.Upsample         [None, 2, 'nearest']          \n",
      " 11             [-1, 6]  1         0  ultralytics.nn.modules.conv.Concat           [1]                           \n",
      " 12                  -1  1    148224  ultralytics.nn.modules.block.C2f             [384, 128, 1]                 \n",
      " 13                  -1  1         0  torch.nn.modules.upsampling.Upsample         [None, 2, 'nearest']          \n",
      " 14             [-1, 4]  1         0  ultralytics.nn.modules.conv.Concat           [1]                           \n",
      " 15                  -1  1     37248  ultralytics.nn.modules.block.C2f             [192, 64, 1]                  \n",
      " 16                  -1  1     36992  ultralytics.nn.modules.conv.Conv             [64, 64, 3, 2]                \n",
      " 17            [-1, 12]  1         0  ultralytics.nn.modules.conv.Concat           [1]                           \n",
      " 18                  -1  1    123648  ultralytics.nn.modules.block.C2f             [192, 128, 1]                 \n",
      " 19                  -1  1    147712  ultralytics.nn.modules.conv.Conv             [128, 128, 3, 2]              \n",
      " 20             [-1, 9]  1         0  ultralytics.nn.modules.conv.Concat           [1]                           \n",
      " 21                  -1  1    493056  ultralytics.nn.modules.block.C2f             [384, 256, 1]                 \n",
      " 22        [15, 18, 21]  1    897664  ultralytics.nn.modules.head.Detect           [80, [64, 128, 256]]          \n",
      "YOLOv8n summary: 225 layers, 3157200 parameters, 3157184 gradients, 8.9 GFLOPs\n",
      "\n"
     ]
    }
   ],
   "source": [
    "# Load a model\n",
    "model = YOLO(\"yolov8n.yaml\")  # build a new model from scratch"
   ]
  },
  {
   "cell_type": "code",
   "execution_count": 3,
   "metadata": {},
   "outputs": [
    {
     "name": "stderr",
     "output_type": "stream",
     "text": [
      "New https://pypi.org/project/ultralytics/8.0.225 available  Update with 'pip install -U ultralytics'\n",
      "Ultralytics YOLOv8.0.202  Python-3.9.7 torch-2.1.0+cu121 CPU (AMD Ryzen 7 3750H with Radeon Vega Mobile Gfx)\n",
      "\u001b[34m\u001b[1mengine\\trainer: \u001b[0mtask=detect, mode=train, model=yolov8n.yaml, data=D:/Coding/Projects/number-plate-recognition/code/main/config.yaml, epochs=5, patience=50, batch=16, imgsz=640, save=True, save_period=-1, cache=False, device=None, workers=8, project=None, name=train22, exist_ok=False, pretrained=True, optimizer=auto, verbose=True, seed=0, deterministic=True, single_cls=False, rect=False, cos_lr=False, close_mosaic=10, resume=False, amp=True, fraction=1.0, profile=False, freeze=None, overlap_mask=True, mask_ratio=4, dropout=0.0, val=True, split=val, save_json=False, save_hybrid=False, conf=None, iou=0.7, max_det=300, half=False, dnn=False, plots=True, source=None, show=False, save_txt=False, save_conf=False, save_crop=False, show_labels=True, show_conf=True, vid_stride=1, stream_buffer=False, line_width=None, visualize=False, augment=False, agnostic_nms=False, classes=None, retina_masks=False, boxes=True, format=torchscript, keras=False, optimize=False, int8=False, dynamic=False, simplify=False, opset=None, workspace=4, nms=False, lr0=0.01, lrf=0.01, momentum=0.937, weight_decay=0.0005, warmup_epochs=3.0, warmup_momentum=0.8, warmup_bias_lr=0.1, box=7.5, cls=0.5, dfl=1.5, pose=12.0, kobj=1.0, label_smoothing=0.0, nbs=64, hsv_h=0.015, hsv_s=0.7, hsv_v=0.4, degrees=0.0, translate=0.1, scale=0.5, shear=0.0, perspective=0.0, flipud=0.0, fliplr=0.5, mosaic=1.0, mixup=0.0, copy_paste=0.0, cfg=None, tracker=botsort.yaml, save_dir=d:\\Coding\\Projects\\number-plate-recognition\\runs\\detect\\train22\n",
      "Overriding model.yaml nc=80 with nc=1\n",
      "\n",
      "                   from  n    params  module                                       arguments                     \n",
      "  0                  -1  1       464  ultralytics.nn.modules.conv.Conv             [3, 16, 3, 2]                 \n",
      "  1                  -1  1      4672  ultralytics.nn.modules.conv.Conv             [16, 32, 3, 2]                \n",
      "  2                  -1  1      7360  ultralytics.nn.modules.block.C2f             [32, 32, 1, True]             \n",
      "  3                  -1  1     18560  ultralytics.nn.modules.conv.Conv             [32, 64, 3, 2]                \n",
      "  4                  -1  2     49664  ultralytics.nn.modules.block.C2f             [64, 64, 2, True]             \n",
      "  5                  -1  1     73984  ultralytics.nn.modules.conv.Conv             [64, 128, 3, 2]               \n",
      "  6                  -1  2    197632  ultralytics.nn.modules.block.C2f             [128, 128, 2, True]           \n",
      "  7                  -1  1    295424  ultralytics.nn.modules.conv.Conv             [128, 256, 3, 2]              \n",
      "  8                  -1  1    460288  ultralytics.nn.modules.block.C2f             [256, 256, 1, True]           \n",
      "  9                  -1  1    164608  ultralytics.nn.modules.block.SPPF            [256, 256, 5]                 \n",
      " 10                  -1  1         0  torch.nn.modules.upsampling.Upsample         [None, 2, 'nearest']          \n",
      " 11             [-1, 6]  1         0  ultralytics.nn.modules.conv.Concat           [1]                           \n",
      " 12                  -1  1    148224  ultralytics.nn.modules.block.C2f             [384, 128, 1]                 \n",
      " 13                  -1  1         0  torch.nn.modules.upsampling.Upsample         [None, 2, 'nearest']          \n",
      " 14             [-1, 4]  1         0  ultralytics.nn.modules.conv.Concat           [1]                           \n",
      " 15                  -1  1     37248  ultralytics.nn.modules.block.C2f             [192, 64, 1]                  \n",
      " 16                  -1  1     36992  ultralytics.nn.modules.conv.Conv             [64, 64, 3, 2]                \n",
      " 17            [-1, 12]  1         0  ultralytics.nn.modules.conv.Concat           [1]                           \n",
      " 18                  -1  1    123648  ultralytics.nn.modules.block.C2f             [192, 128, 1]                 \n",
      " 19                  -1  1    147712  ultralytics.nn.modules.conv.Conv             [128, 128, 3, 2]              \n",
      " 20             [-1, 9]  1         0  ultralytics.nn.modules.conv.Concat           [1]                           \n",
      " 21                  -1  1    493056  ultralytics.nn.modules.block.C2f             [384, 256, 1]                 \n",
      " 22        [15, 18, 21]  1    751507  ultralytics.nn.modules.head.Detect           [1, [64, 128, 256]]           \n",
      "YOLOv8n summary: 225 layers, 3011043 parameters, 3011027 gradients, 8.2 GFLOPs\n",
      "\n",
      "\u001b[34m\u001b[1mTensorBoard: \u001b[0mStart with 'tensorboard --logdir d:\\Coding\\Projects\\number-plate-recognition\\runs\\detect\\train22', view at http://localhost:6006/\n",
      "Freezing layer 'model.22.dfl.conv.weight'\n",
      "\u001b[34m\u001b[1mtrain: \u001b[0mScanning D:\\Coding\\Projects\\number-plate-recognition\\dataset\\labels\\train... 1277 images, 0 backgrounds, 0 corrupt: 100%|██████████| 1277/1277 [00:06<00:00, 191.84it/s]\n",
      "\u001b[34m\u001b[1mtrain: \u001b[0mNew cache created: D:\\Coding\\Projects\\number-plate-recognition\\dataset\\labels\\train.cache\n",
      "\u001b[34m\u001b[1mval: \u001b[0mScanning D:\\Coding\\Projects\\number-plate-recognition\\dataset\\labels\\test... 142 images, 0 backgrounds, 0 corrupt: 100%|██████████| 142/142 [00:01<00:00, 107.88it/s]\n",
      "\u001b[34m\u001b[1mval: \u001b[0mWARNING  D:\\Coding\\Projects\\number-plate-recognition\\dataset\\images\\test\\K1_AA5433RT.jpg: corrupt JPEG restored and saved\n",
      "\u001b[34m\u001b[1mval: \u001b[0mWARNING  D:\\Coding\\Projects\\number-plate-recognition\\dataset\\images\\test\\K1_AA5499IK.jpg: corrupt JPEG restored and saved\n",
      "\u001b[34m\u001b[1mval: \u001b[0mWARNING  D:\\Coding\\Projects\\number-plate-recognition\\dataset\\images\\test\\K1_AB2432VM.jpg: corrupt JPEG restored and saved\n",
      "\u001b[34m\u001b[1mval: \u001b[0mWARNING  D:\\Coding\\Projects\\number-plate-recognition\\dataset\\images\\test\\K3_AB1022CS.jpg: corrupt JPEG restored and saved\n",
      "\u001b[34m\u001b[1mval: \u001b[0mWARNING  D:\\Coding\\Projects\\number-plate-recognition\\dataset\\images\\test\\K3_AB1025ES.jpg: corrupt JPEG restored and saved\n",
      "\u001b[34m\u001b[1mval: \u001b[0mWARNING  D:\\Coding\\Projects\\number-plate-recognition\\dataset\\images\\test\\K3_AB1048AM.jpg: corrupt JPEG restored and saved\n",
      "\u001b[34m\u001b[1mval: \u001b[0mWARNING  D:\\Coding\\Projects\\number-plate-recognition\\dataset\\images\\test\\K3_AB1062NV.jpg: corrupt JPEG restored and saved\n",
      "\u001b[34m\u001b[1mval: \u001b[0mWARNING  D:\\Coding\\Projects\\number-plate-recognition\\dataset\\images\\test\\K4_B1468PR.jpg: corrupt JPEG restored and saved\n",
      "\u001b[34m\u001b[1mval: \u001b[0mWARNING  D:\\Coding\\Projects\\number-plate-recognition\\dataset\\images\\test\\K4_B2691PZA.jpg: corrupt JPEG restored and saved\n",
      "\u001b[34m\u001b[1mval: \u001b[0mWARNING  D:\\Coding\\Projects\\number-plate-recognition\\dataset\\images\\test\\K4_B2791BZT.jpg: corrupt JPEG restored and saved\n",
      "\u001b[34m\u001b[1mval: \u001b[0mWARNING  D:\\Coding\\Projects\\number-plate-recognition\\dataset\\images\\test\\K4_B2961KMX.jpg: corrupt JPEG restored and saved\n",
      "\u001b[34m\u001b[1mval: \u001b[0mNew cache created: D:\\Coding\\Projects\\number-plate-recognition\\dataset\\labels\\test.cache\n",
      "Plotting labels to d:\\Coding\\Projects\\number-plate-recognition\\runs\\detect\\train22\\labels.jpg... \n",
      "\u001b[34m\u001b[1moptimizer:\u001b[0m 'optimizer=auto' found, ignoring 'lr0=0.01' and 'momentum=0.937' and determining best 'optimizer', 'lr0' and 'momentum' automatically... \n",
      "\u001b[34m\u001b[1moptimizer:\u001b[0m AdamW(lr=0.002, momentum=0.9) with parameter groups 57 weight(decay=0.0), 64 weight(decay=0.0005), 63 bias(decay=0.0)\n",
      "Image sizes 640 train, 640 val\n",
      "Using 0 dataloader workers\n",
      "Logging results to \u001b[1md:\\Coding\\Projects\\number-plate-recognition\\runs\\detect\\train22\u001b[0m\n",
      "Starting training for 5 epochs...\n",
      "\n",
      "      Epoch    GPU_mem   box_loss   cls_loss   dfl_loss  Instances       Size\n",
      "        1/5         0G      3.457       4.36      3.961         26        640: 100%|██████████| 80/80 [17:58<00:00, 13.48s/it]\n",
      "                 Class     Images  Instances      Box(P          R      mAP50  mAP50-95): 100%|██████████| 5/5 [00:52<00:00, 10.56s/it]\n",
      "                   all        142        145          0          0          0          0\n",
      "\n",
      "      Epoch    GPU_mem   box_loss   cls_loss   dfl_loss  Instances       Size\n",
      "        2/5         0G      2.478       2.88      2.748         23        640: 100%|██████████| 80/80 [17:57<00:00, 13.47s/it]\n",
      "                 Class     Images  Instances      Box(P          R      mAP50  mAP50-95): 100%|██████████| 5/5 [00:53<00:00, 10.71s/it]\n",
      "                   all        142        145      0.303      0.262      0.236     0.0918\n",
      "\n",
      "      Epoch    GPU_mem   box_loss   cls_loss   dfl_loss  Instances       Size\n",
      "        3/5         0G      2.015      1.987        2.3         30        640: 100%|██████████| 80/80 [17:50<00:00, 13.38s/it]\n",
      "                 Class     Images  Instances      Box(P          R      mAP50  mAP50-95): 100%|██████████| 5/5 [00:49<00:00,  9.93s/it]\n",
      "                   all        142        145      0.557      0.586      0.524      0.288\n",
      "\n",
      "      Epoch    GPU_mem   box_loss   cls_loss   dfl_loss  Instances       Size\n",
      "        4/5         0G      1.694      1.538      2.022         26        640: 100%|██████████| 80/80 [16:40<00:00, 12.50s/it]\n",
      "                 Class     Images  Instances      Box(P          R      mAP50  mAP50-95): 100%|██████████| 5/5 [00:48<00:00,  9.74s/it]\n",
      "                   all        142        145      0.771      0.779      0.798      0.469\n",
      "\n",
      "      Epoch    GPU_mem   box_loss   cls_loss   dfl_loss  Instances       Size\n",
      "        5/5         0G       1.54      1.326      1.863         19        640: 100%|██████████| 80/80 [16:25<00:00, 12.32s/it]\n",
      "                 Class     Images  Instances      Box(P          R      mAP50  mAP50-95): 100%|██████████| 5/5 [00:49<00:00,  9.83s/it]\n",
      "                   all        142        145      0.835      0.745      0.792      0.488\n",
      "\n",
      "5 epochs completed in 1.521 hours.\n",
      "Optimizer stripped from d:\\Coding\\Projects\\number-plate-recognition\\runs\\detect\\train22\\weights\\last.pt, 6.2MB\n",
      "Optimizer stripped from d:\\Coding\\Projects\\number-plate-recognition\\runs\\detect\\train22\\weights\\best.pt, 6.2MB\n",
      "\n",
      "Validating d:\\Coding\\Projects\\number-plate-recognition\\runs\\detect\\train22\\weights\\best.pt...\n",
      "Ultralytics YOLOv8.0.202  Python-3.9.7 torch-2.1.0+cu121 CPU (AMD Ryzen 7 3750H with Radeon Vega Mobile Gfx)\n",
      "YOLOv8n summary (fused): 168 layers, 3005843 parameters, 0 gradients, 8.1 GFLOPs\n",
      "                 Class     Images  Instances      Box(P          R      mAP50  mAP50-95): 100%|██████████| 5/5 [00:45<00:00,  9.15s/it]\n",
      "                   all        142        145      0.831      0.745      0.792      0.488\n",
      "Speed: 2.5ms preprocess, 155.1ms inference, 0.0ms loss, 1.1ms postprocess per image\n",
      "Results saved to \u001b[1md:\\Coding\\Projects\\number-plate-recognition\\runs\\detect\\train22\u001b[0m\n"
     ]
    }
   ],
   "source": [
    "# Train model (use data part 1-7 & addition 1 & addition 2) (5th Testing)\n",
    "result = model.train(data=\"D:/Coding/Projects/number-plate-recognition/code/main/config.yaml\", epochs=5)  # train the model"
   ]
  },
  {
   "cell_type": "code",
   "execution_count": 4,
   "metadata": {},
   "outputs": [
    {
     "name": "stderr",
     "output_type": "stream",
     "text": [
      "Ultralytics YOLOv8.0.202  Python-3.9.7 torch-2.1.0+cu121 CPU (AMD Ryzen 7 3750H with Radeon Vega Mobile Gfx)\n",
      "YOLOv8n summary (fused): 168 layers, 3005843 parameters, 0 gradients, 8.1 GFLOPs\n",
      "\u001b[34m\u001b[1mval: \u001b[0mScanning D:\\Coding\\Projects\\number-plate-recognition\\dataset\\labels\\test.cache... 142 images, 0 backgrounds, 0 corrupt: 100%|██████████| 142/142 [00:00<?, ?it/s]\n",
      "\u001b[34m\u001b[1mval: \u001b[0mWARNING  D:\\Coding\\Projects\\number-plate-recognition\\dataset\\images\\test\\K1_AA5433RT.jpg: corrupt JPEG restored and saved\n",
      "\u001b[34m\u001b[1mval: \u001b[0mWARNING  D:\\Coding\\Projects\\number-plate-recognition\\dataset\\images\\test\\K1_AA5499IK.jpg: corrupt JPEG restored and saved\n",
      "\u001b[34m\u001b[1mval: \u001b[0mWARNING  D:\\Coding\\Projects\\number-plate-recognition\\dataset\\images\\test\\K1_AB2432VM.jpg: corrupt JPEG restored and saved\n",
      "\u001b[34m\u001b[1mval: \u001b[0mWARNING  D:\\Coding\\Projects\\number-plate-recognition\\dataset\\images\\test\\K3_AB1022CS.jpg: corrupt JPEG restored and saved\n",
      "\u001b[34m\u001b[1mval: \u001b[0mWARNING  D:\\Coding\\Projects\\number-plate-recognition\\dataset\\images\\test\\K3_AB1025ES.jpg: corrupt JPEG restored and saved\n",
      "\u001b[34m\u001b[1mval: \u001b[0mWARNING  D:\\Coding\\Projects\\number-plate-recognition\\dataset\\images\\test\\K3_AB1048AM.jpg: corrupt JPEG restored and saved\n",
      "\u001b[34m\u001b[1mval: \u001b[0mWARNING  D:\\Coding\\Projects\\number-plate-recognition\\dataset\\images\\test\\K3_AB1062NV.jpg: corrupt JPEG restored and saved\n",
      "\u001b[34m\u001b[1mval: \u001b[0mWARNING  D:\\Coding\\Projects\\number-plate-recognition\\dataset\\images\\test\\K4_B1468PR.jpg: corrupt JPEG restored and saved\n",
      "\u001b[34m\u001b[1mval: \u001b[0mWARNING  D:\\Coding\\Projects\\number-plate-recognition\\dataset\\images\\test\\K4_B2691PZA.jpg: corrupt JPEG restored and saved\n",
      "\u001b[34m\u001b[1mval: \u001b[0mWARNING  D:\\Coding\\Projects\\number-plate-recognition\\dataset\\images\\test\\K4_B2791BZT.jpg: corrupt JPEG restored and saved\n",
      "\u001b[34m\u001b[1mval: \u001b[0mWARNING  D:\\Coding\\Projects\\number-plate-recognition\\dataset\\images\\test\\K4_B2961KMX.jpg: corrupt JPEG restored and saved\n",
      "                 Class     Images  Instances      Box(P          R      mAP50  mAP50-95): 100%|██████████| 9/9 [00:45<00:00,  5.10s/it]\n",
      "                   all        142        145       0.83      0.745      0.791      0.489\n",
      "Speed: 2.3ms preprocess, 149.3ms inference, 0.0ms loss, 1.4ms postprocess per image\n",
      "Results saved to \u001b[1md:\\Coding\\Projects\\number-plate-recognition\\runs\\detect\\train222\u001b[0m\n"
     ]
    }
   ],
   "source": [
    "metrics = model.val()  # evaluate model performance on the validation set"
   ]
  },
  {
   "cell_type": "code",
   "execution_count": 5,
   "metadata": {},
   "outputs": [
    {
     "name": "stderr",
     "output_type": "stream",
     "text": [
      "\n",
      "image 1/1 D:\\Coding\\Projects\\number-plate-recognition\\data\\K1_G6853EQ.jpg: 640x384 1 plat-nomor, 162.0ms\n",
      "Speed: 4.0ms preprocess, 162.0ms inference, 2.0ms postprocess per image at shape (1, 3, 640, 384)\n",
      "Ultralytics YOLOv8.0.202  Python-3.9.7 torch-2.1.0+cu121 CPU (AMD Ryzen 7 3750H with Radeon Vega Mobile Gfx)\n",
      "\n",
      "\u001b[34m\u001b[1mPyTorch:\u001b[0m starting from 'd:\\Coding\\Projects\\number-plate-recognition\\runs\\detect\\train22\\weights\\best.pt' with input shape (1, 3, 640, 640) BCHW and output shape(s) (1, 5, 8400) (5.9 MB)\n",
      "\n",
      "\u001b[34m\u001b[1mONNX:\u001b[0m starting export with onnx 1.15.0 opset 17...\n",
      "\u001b[34m\u001b[1mONNX:\u001b[0m export success  1.3s, saved as 'd:\\Coding\\Projects\\number-plate-recognition\\runs\\detect\\train22\\weights\\best.onnx' (11.7 MB)\n",
      "\n",
      "Export complete (3.4s)\n",
      "Results saved to \u001b[1mD:\\Coding\\Projects\\number-plate-recognition\\runs\\detect\\train22\\weights\u001b[0m\n",
      "Predict:         yolo predict task=detect model=d:\\Coding\\Projects\\number-plate-recognition\\runs\\detect\\train22\\weights\\best.onnx imgsz=640  \n",
      "Validate:        yolo val task=detect model=d:\\Coding\\Projects\\number-plate-recognition\\runs\\detect\\train22\\weights\\best.onnx imgsz=640 data=D:/Coding/Projects/number-plate-recognition/code/main/config.yaml  \n",
      "Visualize:       https://netron.app\n"
     ]
    }
   ],
   "source": [
    "res_predict = model(\"D:/Coding/Projects/number-plate-recognition/data/K1_G6853EQ.jpg\")  # predict on an image\n",
    "path = model.export(format=\"onnx\")  # export the model to ONNX format\n",
    "# path = model.export(format=\"torchscript\")  # export the model to ONNX format"
   ]
  },
  {
   "cell_type": "code",
   "execution_count": 6,
   "metadata": {},
   "outputs": [
    {
     "data": {
      "text/plain": [
       "[ultralytics.engine.results.Results object with attributes:\n",
       " \n",
       " boxes: ultralytics.engine.results.Boxes object\n",
       " keypoints: None\n",
       " masks: None\n",
       " names: {0: 'plat-nomor'}\n",
       " orig_img: array([[[244, 245, 241],\n",
       "         [244, 245, 241],\n",
       "         [244, 245, 241],\n",
       "         ...,\n",
       "         [ 35,  33,  32],\n",
       "         [ 37,  35,  34],\n",
       "         [ 36,  34,  33]],\n",
       " \n",
       "        [[243, 244, 240],\n",
       "         [243, 244, 240],\n",
       "         [243, 244, 240],\n",
       "         ...,\n",
       "         [ 34,  32,  31],\n",
       "         [ 37,  35,  34],\n",
       "         [ 37,  35,  34]],\n",
       " \n",
       "        [[244, 245, 241],\n",
       "         [243, 244, 240],\n",
       "         [243, 244, 240],\n",
       "         ...,\n",
       "         [ 32,  33,  31],\n",
       "         [ 34,  35,  33],\n",
       "         [ 34,  35,  33]],\n",
       " \n",
       "        ...,\n",
       " \n",
       "        [[ 67,  73,  80],\n",
       "         [ 67,  73,  80],\n",
       "         [ 70,  76,  83],\n",
       "         ...,\n",
       "         [121, 124, 128],\n",
       "         [116, 119, 123],\n",
       "         [105, 108, 112]],\n",
       " \n",
       "        [[ 60,  66,  73],\n",
       "         [ 59,  65,  72],\n",
       "         [ 63,  69,  76],\n",
       "         ...,\n",
       "         [118, 121, 125],\n",
       "         [115, 118, 122],\n",
       "         [107, 110, 114]],\n",
       " \n",
       "        [[ 55,  61,  68],\n",
       "         [ 50,  56,  63],\n",
       "         [ 55,  61,  68],\n",
       "         ...,\n",
       "         [127, 130, 134],\n",
       "         [121, 124, 128],\n",
       "         [109, 112, 116]]], dtype=uint8)\n",
       " orig_shape: (4000, 2252)\n",
       " path: 'D:\\\\Coding\\\\Projects\\\\number-plate-recognition\\\\data\\\\K1_G6853EQ.jpg'\n",
       " probs: None\n",
       " save_dir: None\n",
       " speed: {'preprocess': 4.002094268798828, 'inference': 162.02044486999512, 'postprocess': 1.9924640655517578}]"
      ]
     },
     "execution_count": 6,
     "metadata": {},
     "output_type": "execute_result"
    }
   ],
   "source": [
    "res_predict"
   ]
  },
  {
   "cell_type": "code",
   "execution_count": 7,
   "metadata": {},
   "outputs": [
    {
     "name": "stderr",
     "output_type": "stream",
     "text": [
      "\n",
      "image 1/1 D:\\Coding\\Projects\\number-plate-recognition\\data\\K1_G6853EQ.jpg: 320x192 3 plat-nomors, 74.0ms\n",
      "Speed: 2.0ms preprocess, 74.0ms inference, 1.0ms postprocess per image at shape (1, 3, 320, 192)\n",
      "Results saved to \u001b[1md:\\Coding\\Projects\\number-plate-recognition\\runs\\detect\\train223\u001b[0m\n"
     ]
    }
   ],
   "source": [
    "# Run inference on 'bus.jpg' with arguments\n",
    "results = model.predict(\"D:/Coding/Projects/number-plate-recognition/data/K1_G6853EQ.jpg\", save=True, imgsz=320, conf=0.1)\n",
    "# results = model('bus.jpg')"
   ]
  },
  {
   "cell_type": "code",
   "execution_count": 8,
   "metadata": {},
   "outputs": [
    {
     "name": "stdout",
     "output_type": "stream",
     "text": [
      "ultralytics.engine.results.Boxes object with attributes:\n",
      "\n",
      "cls: tensor([0., 0., 0.])\n",
      "conf: tensor([0.5737, 0.5572, 0.1730])\n",
      "data: tensor([[6.9598e+02, 1.8179e+03, 1.5368e+03, 2.2090e+03, 5.7365e-01, 0.0000e+00],\n",
      "        [6.7533e+02, 1.8017e+03, 1.5849e+03, 2.3810e+03, 5.5721e-01, 0.0000e+00],\n",
      "        [7.0157e+02, 2.0704e+03, 1.4962e+03, 2.4597e+03, 1.7295e-01, 0.0000e+00]])\n",
      "id: None\n",
      "is_track: False\n",
      "orig_shape: (4000, 2252)\n",
      "shape: torch.Size([3, 6])\n",
      "xywh: tensor([[1116.3671, 2013.4587,  840.7662,  391.0641],\n",
      "        [1130.1006, 2091.3757,  909.5455,  579.2831],\n",
      "        [1098.9088, 2265.0249,  794.6717,  389.2947]])\n",
      "xywhn: tensor([[0.4957, 0.5034, 0.3733, 0.0978],\n",
      "        [0.5018, 0.5228, 0.4039, 0.1448],\n",
      "        [0.4880, 0.5663, 0.3529, 0.0973]])\n",
      "xyxy: tensor([[ 695.9839, 1817.9266, 1536.7501, 2208.9907],\n",
      "        [ 675.3278, 1801.7343, 1584.8733, 2381.0173],\n",
      "        [ 701.5729, 2070.3774, 1496.2446, 2459.6721]])\n",
      "xyxyn: tensor([[0.3091, 0.4545, 0.6824, 0.5522],\n",
      "        [0.2999, 0.4504, 0.7038, 0.5953],\n",
      "        [0.3115, 0.5176, 0.6644, 0.6149]])\n"
     ]
    }
   ],
   "source": [
    "for r in results:\n",
    "    print(r.boxes)"
   ]
  }
 ],
 "metadata": {
  "kernelspec": {
   "display_name": "env",
   "language": "python",
   "name": "python3"
  },
  "language_info": {
   "codemirror_mode": {
    "name": "ipython",
    "version": 3
   },
   "file_extension": ".py",
   "mimetype": "text/x-python",
   "name": "python",
   "nbconvert_exporter": "python",
   "pygments_lexer": "ipython3",
   "version": "3.9.7"
  }
 },
 "nbformat": 4,
 "nbformat_minor": 2
}
