{
 "cells": [
  {
   "cell_type": "code",
   "execution_count": 1,
   "metadata": {},
   "outputs": [],
   "source": [
    "import os\n",
    "import cv2\n",
    "from ultralytics import YOLO"
   ]
  },
  {
   "cell_type": "markdown",
   "metadata": {},
   "source": [
    "### Train YOLO"
   ]
  },
  {
   "cell_type": "code",
   "execution_count": 2,
   "metadata": {},
   "outputs": [
    {
     "name": "stderr",
     "output_type": "stream",
     "text": [
      "\n",
      "                   from  n    params  module                                       arguments                     \n",
      "  0                  -1  1       464  ultralytics.nn.modules.conv.Conv             [3, 16, 3, 2]                 \n",
      "  1                  -1  1      4672  ultralytics.nn.modules.conv.Conv             [16, 32, 3, 2]                \n",
      "  2                  -1  1      7360  ultralytics.nn.modules.block.C2f             [32, 32, 1, True]             \n",
      "  3                  -1  1     18560  ultralytics.nn.modules.conv.Conv             [32, 64, 3, 2]                \n",
      "  4                  -1  2     49664  ultralytics.nn.modules.block.C2f             [64, 64, 2, True]             \n",
      "  5                  -1  1     73984  ultralytics.nn.modules.conv.Conv             [64, 128, 3, 2]               \n",
      "  6                  -1  2    197632  ultralytics.nn.modules.block.C2f             [128, 128, 2, True]           \n",
      "  7                  -1  1    295424  ultralytics.nn.modules.conv.Conv             [128, 256, 3, 2]              \n",
      "  8                  -1  1    460288  ultralytics.nn.modules.block.C2f             [256, 256, 1, True]           \n",
      "  9                  -1  1    164608  ultralytics.nn.modules.block.SPPF            [256, 256, 5]                 \n",
      " 10                  -1  1         0  torch.nn.modules.upsampling.Upsample         [None, 2, 'nearest']          \n",
      " 11             [-1, 6]  1         0  ultralytics.nn.modules.conv.Concat           [1]                           \n",
      " 12                  -1  1    148224  ultralytics.nn.modules.block.C2f             [384, 128, 1]                 \n",
      " 13                  -1  1         0  torch.nn.modules.upsampling.Upsample         [None, 2, 'nearest']          \n",
      " 14             [-1, 4]  1         0  ultralytics.nn.modules.conv.Concat           [1]                           \n",
      " 15                  -1  1     37248  ultralytics.nn.modules.block.C2f             [192, 64, 1]                  \n",
      " 16                  -1  1     36992  ultralytics.nn.modules.conv.Conv             [64, 64, 3, 2]                \n",
      " 17            [-1, 12]  1         0  ultralytics.nn.modules.conv.Concat           [1]                           \n",
      " 18                  -1  1    123648  ultralytics.nn.modules.block.C2f             [192, 128, 1]                 \n",
      " 19                  -1  1    147712  ultralytics.nn.modules.conv.Conv             [128, 128, 3, 2]              \n",
      " 20             [-1, 9]  1         0  ultralytics.nn.modules.conv.Concat           [1]                           \n",
      " 21                  -1  1    493056  ultralytics.nn.modules.block.C2f             [384, 256, 1]                 \n",
      " 22        [15, 18, 21]  1    897664  ultralytics.nn.modules.head.Detect           [80, [64, 128, 256]]          \n",
      "YOLOv8n summary: 225 layers, 3157200 parameters, 3157184 gradients, 8.9 GFLOPs\n",
      "\n"
     ]
    }
   ],
   "source": [
    "# Load a model\n",
    "model = YOLO(\"yolov8n.yaml\")  # build a new model from scratch"
   ]
  },
  {
   "cell_type": "code",
   "execution_count": 3,
   "metadata": {},
   "outputs": [
    {
     "name": "stderr",
     "output_type": "stream",
     "text": [
      "New https://pypi.org/project/ultralytics/8.0.222 available  Update with 'pip install -U ultralytics'\n",
      "Ultralytics YOLOv8.0.202  Python-3.9.7 torch-2.1.0+cu121 CPU (AMD Ryzen 7 3750H with Radeon Vega Mobile Gfx)\n",
      "\u001b[34m\u001b[1mengine\\trainer: \u001b[0mtask=detect, mode=train, model=yolov8n.yaml, data=D:/Coding/Projects/number-plate-recognition/code/main/config.yaml, epochs=5, patience=50, batch=16, imgsz=640, save=True, save_period=-1, cache=False, device=None, workers=8, project=None, name=train18, exist_ok=False, pretrained=True, optimizer=auto, verbose=True, seed=0, deterministic=True, single_cls=False, rect=False, cos_lr=False, close_mosaic=10, resume=False, amp=True, fraction=1.0, profile=False, freeze=None, overlap_mask=True, mask_ratio=4, dropout=0.0, val=True, split=val, save_json=False, save_hybrid=False, conf=None, iou=0.7, max_det=300, half=False, dnn=False, plots=True, source=None, show=False, save_txt=False, save_conf=False, save_crop=False, show_labels=True, show_conf=True, vid_stride=1, stream_buffer=False, line_width=None, visualize=False, augment=False, agnostic_nms=False, classes=None, retina_masks=False, boxes=True, format=torchscript, keras=False, optimize=False, int8=False, dynamic=False, simplify=False, opset=None, workspace=4, nms=False, lr0=0.01, lrf=0.01, momentum=0.937, weight_decay=0.0005, warmup_epochs=3.0, warmup_momentum=0.8, warmup_bias_lr=0.1, box=7.5, cls=0.5, dfl=1.5, pose=12.0, kobj=1.0, label_smoothing=0.0, nbs=64, hsv_h=0.015, hsv_s=0.7, hsv_v=0.4, degrees=0.0, translate=0.1, scale=0.5, shear=0.0, perspective=0.0, flipud=0.0, fliplr=0.5, mosaic=1.0, mixup=0.0, copy_paste=0.0, cfg=None, tracker=botsort.yaml, save_dir=d:\\Coding\\Projects\\number-plate-recognition\\runs\\detect\\train18\n",
      "Overriding model.yaml nc=80 with nc=1\n",
      "\n",
      "                   from  n    params  module                                       arguments                     \n",
      "  0                  -1  1       464  ultralytics.nn.modules.conv.Conv             [3, 16, 3, 2]                 \n",
      "  1                  -1  1      4672  ultralytics.nn.modules.conv.Conv             [16, 32, 3, 2]                \n",
      "  2                  -1  1      7360  ultralytics.nn.modules.block.C2f             [32, 32, 1, True]             \n",
      "  3                  -1  1     18560  ultralytics.nn.modules.conv.Conv             [32, 64, 3, 2]                \n",
      "  4                  -1  2     49664  ultralytics.nn.modules.block.C2f             [64, 64, 2, True]             \n",
      "  5                  -1  1     73984  ultralytics.nn.modules.conv.Conv             [64, 128, 3, 2]               \n",
      "  6                  -1  2    197632  ultralytics.nn.modules.block.C2f             [128, 128, 2, True]           \n",
      "  7                  -1  1    295424  ultralytics.nn.modules.conv.Conv             [128, 256, 3, 2]              \n",
      "  8                  -1  1    460288  ultralytics.nn.modules.block.C2f             [256, 256, 1, True]           \n",
      "  9                  -1  1    164608  ultralytics.nn.modules.block.SPPF            [256, 256, 5]                 \n",
      " 10                  -1  1         0  torch.nn.modules.upsampling.Upsample         [None, 2, 'nearest']          \n",
      " 11             [-1, 6]  1         0  ultralytics.nn.modules.conv.Concat           [1]                           \n",
      " 12                  -1  1    148224  ultralytics.nn.modules.block.C2f             [384, 128, 1]                 \n",
      " 13                  -1  1         0  torch.nn.modules.upsampling.Upsample         [None, 2, 'nearest']          \n",
      " 14             [-1, 4]  1         0  ultralytics.nn.modules.conv.Concat           [1]                           \n",
      " 15                  -1  1     37248  ultralytics.nn.modules.block.C2f             [192, 64, 1]                  \n",
      " 16                  -1  1     36992  ultralytics.nn.modules.conv.Conv             [64, 64, 3, 2]                \n",
      " 17            [-1, 12]  1         0  ultralytics.nn.modules.conv.Concat           [1]                           \n",
      " 18                  -1  1    123648  ultralytics.nn.modules.block.C2f             [192, 128, 1]                 \n",
      " 19                  -1  1    147712  ultralytics.nn.modules.conv.Conv             [128, 128, 3, 2]              \n",
      " 20             [-1, 9]  1         0  ultralytics.nn.modules.conv.Concat           [1]                           \n",
      " 21                  -1  1    493056  ultralytics.nn.modules.block.C2f             [384, 256, 1]                 \n",
      " 22        [15, 18, 21]  1    751507  ultralytics.nn.modules.head.Detect           [1, [64, 128, 256]]           \n",
      "YOLOv8n summary: 225 layers, 3011043 parameters, 3011027 gradients, 8.2 GFLOPs\n",
      "\n",
      "\u001b[34m\u001b[1mTensorBoard: \u001b[0mStart with 'tensorboard --logdir d:\\Coding\\Projects\\number-plate-recognition\\runs\\detect\\train18', view at http://localhost:6006/\n",
      "Freezing layer 'model.22.dfl.conv.weight'\n",
      "\u001b[34m\u001b[1mtrain: \u001b[0mScanning D:\\Coding\\Projects\\number-plate-recognition\\dataset\\labels\\train... 396 images, 0 backgrounds, 0 corrupt: 100%|██████████| 396/396 [00:06<00:00, 60.69it/s]\n",
      "\u001b[34m\u001b[1mtrain: \u001b[0mWARNING  D:\\Coding\\Projects\\number-plate-recognition\\dataset\\images\\train\\K1_KT6127EAA.jpg: corrupt JPEG restored and saved\n",
      "\u001b[34m\u001b[1mtrain: \u001b[0mWARNING  D:\\Coding\\Projects\\number-plate-recognition\\dataset\\images\\train\\K1_N2816YBA.jpg: corrupt JPEG restored and saved\n",
      "\u001b[34m\u001b[1mtrain: \u001b[0mWARNING  D:\\Coding\\Projects\\number-plate-recognition\\dataset\\images\\train\\K1_R2316NV.jpg: corrupt JPEG restored and saved\n",
      "\u001b[34m\u001b[1mtrain: \u001b[0mWARNING  D:\\Coding\\Projects\\number-plate-recognition\\dataset\\images\\train\\K1_R2989RP.jpg: corrupt JPEG restored and saved\n",
      "\u001b[34m\u001b[1mtrain: \u001b[0mWARNING  D:\\Coding\\Projects\\number-plate-recognition\\dataset\\images\\train\\K1_R3386AF.jpg: corrupt JPEG restored and saved\n",
      "\u001b[34m\u001b[1mtrain: \u001b[0mWARNING  D:\\Coding\\Projects\\number-plate-recognition\\dataset\\images\\train\\K1_R3766MG.jpg: corrupt JPEG restored and saved\n",
      "\u001b[34m\u001b[1mtrain: \u001b[0mWARNING  D:\\Coding\\Projects\\number-plate-recognition\\dataset\\images\\train\\K1_R3974VM.jpg: corrupt JPEG restored and saved\n",
      "\u001b[34m\u001b[1mtrain: \u001b[0mWARNING  D:\\Coding\\Projects\\number-plate-recognition\\dataset\\images\\train\\K1_R6309GV.jpg: corrupt JPEG restored and saved\n",
      "\u001b[34m\u001b[1mtrain: \u001b[0mWARNING  D:\\Coding\\Projects\\number-plate-recognition\\dataset\\images\\train\\K1_R6578OD.jpg: corrupt JPEG restored and saved\n",
      "\u001b[34m\u001b[1mtrain: \u001b[0mWARNING  D:\\Coding\\Projects\\number-plate-recognition\\dataset\\images\\train\\K1_R6745VW.jpg: corrupt JPEG restored and saved\n",
      "\u001b[34m\u001b[1mtrain: \u001b[0mWARNING  D:\\Coding\\Projects\\number-plate-recognition\\dataset\\images\\train\\K1_R6910DB.jpg: corrupt JPEG restored and saved\n",
      "\u001b[34m\u001b[1mtrain: \u001b[0mWARNING  D:\\Coding\\Projects\\number-plate-recognition\\dataset\\images\\train\\K1_T5829CC.jpg: corrupt JPEG restored and saved\n",
      "\u001b[34m\u001b[1mtrain: \u001b[0mWARNING  D:\\Coding\\Projects\\number-plate-recognition\\dataset\\images\\train\\K1_Z4821TAC.jpg: corrupt JPEG restored and saved\n",
      "\u001b[34m\u001b[1mtrain: \u001b[0mWARNING  D:\\Coding\\Projects\\number-plate-recognition\\dataset\\images\\train\\K1_Z5891LC.jpg: corrupt JPEG restored and saved\n",
      "\u001b[34m\u001b[1mtrain: \u001b[0mWARNING  D:\\Coding\\Projects\\number-plate-recognition\\dataset\\images\\train\\K2_K2412NJ.jpg: corrupt JPEG restored and saved\n",
      "\u001b[34m\u001b[1mtrain: \u001b[0mWARNING  D:\\Coding\\Projects\\number-plate-recognition\\dataset\\images\\train\\K2_K3733IH.jpg: corrupt JPEG restored and saved\n",
      "\u001b[34m\u001b[1mtrain: \u001b[0mWARNING  D:\\Coding\\Projects\\number-plate-recognition\\dataset\\images\\train\\K2_K4814EW.jpg: corrupt JPEG restored and saved\n",
      "\u001b[34m\u001b[1mtrain: \u001b[0mWARNING  D:\\Coding\\Projects\\number-plate-recognition\\dataset\\images\\train\\K2_R2551ZW.jpg: corrupt JPEG restored and saved\n",
      "\u001b[34m\u001b[1mtrain: \u001b[0mWARNING  D:\\Coding\\Projects\\number-plate-recognition\\dataset\\images\\train\\K2_R3401RI.jpg: corrupt JPEG restored and saved\n",
      "\u001b[34m\u001b[1mtrain: \u001b[0mWARNING  D:\\Coding\\Projects\\number-plate-recognition\\dataset\\images\\train\\K2_R4395LW.jpg: corrupt JPEG restored and saved\n",
      "\u001b[34m\u001b[1mtrain: \u001b[0mWARNING  D:\\Coding\\Projects\\number-plate-recognition\\dataset\\images\\train\\K2_R5059UW.jpg: corrupt JPEG restored and saved\n",
      "\u001b[34m\u001b[1mtrain: \u001b[0mWARNING  D:\\Coding\\Projects\\number-plate-recognition\\dataset\\images\\train\\K3_AB1587US.jpg: corrupt JPEG restored and saved\n",
      "\u001b[34m\u001b[1mtrain: \u001b[0mWARNING  D:\\Coding\\Projects\\number-plate-recognition\\dataset\\images\\train\\K3_AB1591BT.jpg: corrupt JPEG restored and saved\n",
      "\u001b[34m\u001b[1mtrain: \u001b[0mWARNING  D:\\Coding\\Projects\\number-plate-recognition\\dataset\\images\\train\\K3_AB1595ZZ.jpg: corrupt JPEG restored and saved\n",
      "\u001b[34m\u001b[1mtrain: \u001b[0mWARNING  D:\\Coding\\Projects\\number-plate-recognition\\dataset\\images\\train\\K3_AB1628IM.jpg: corrupt JPEG restored and saved\n",
      "\u001b[34m\u001b[1mtrain: \u001b[0mWARNING  D:\\Coding\\Projects\\number-plate-recognition\\dataset\\images\\train\\K3_AB1630IY.jpg: corrupt JPEG restored and saved\n",
      "\u001b[34m\u001b[1mtrain: \u001b[0mWARNING  D:\\Coding\\Projects\\number-plate-recognition\\dataset\\images\\train\\K3_AB1632UG.jpg: corrupt JPEG restored and saved\n",
      "\u001b[34m\u001b[1mtrain: \u001b[0mWARNING  D:\\Coding\\Projects\\number-plate-recognition\\dataset\\images\\train\\K3_AB1643AY.jpg: corrupt JPEG restored and saved\n",
      "\u001b[34m\u001b[1mtrain: \u001b[0mWARNING  D:\\Coding\\Projects\\number-plate-recognition\\dataset\\images\\train\\K3_AB1669XE.jpg: corrupt JPEG restored and saved\n",
      "\u001b[34m\u001b[1mtrain: \u001b[0mWARNING  D:\\Coding\\Projects\\number-plate-recognition\\dataset\\images\\train\\K3_AB1697TA.jpg: corrupt JPEG restored and saved\n",
      "\u001b[34m\u001b[1mtrain: \u001b[0mWARNING  D:\\Coding\\Projects\\number-plate-recognition\\dataset\\images\\train\\K3_AB1699CX.jpg: corrupt JPEG restored and saved\n",
      "\u001b[34m\u001b[1mtrain: \u001b[0mWARNING  D:\\Coding\\Projects\\number-plate-recognition\\dataset\\images\\train\\K3_AB1707CX.jpg: corrupt JPEG restored and saved\n",
      "\u001b[34m\u001b[1mtrain: \u001b[0mWARNING  D:\\Coding\\Projects\\number-plate-recognition\\dataset\\images\\train\\K3_AB1723NX.jpg: corrupt JPEG restored and saved\n",
      "\u001b[34m\u001b[1mtrain: \u001b[0mWARNING  D:\\Coding\\Projects\\number-plate-recognition\\dataset\\images\\train\\K3_AB1739WE.jpg: corrupt JPEG restored and saved\n",
      "\u001b[34m\u001b[1mtrain: \u001b[0mWARNING  D:\\Coding\\Projects\\number-plate-recognition\\dataset\\images\\train\\K3_AB1753AL.jpg: corrupt JPEG restored and saved\n",
      "\u001b[34m\u001b[1mtrain: \u001b[0mWARNING  D:\\Coding\\Projects\\number-plate-recognition\\dataset\\images\\train\\K3_AB1754GV.jpg: corrupt JPEG restored and saved\n",
      "\u001b[34m\u001b[1mtrain: \u001b[0mWARNING  D:\\Coding\\Projects\\number-plate-recognition\\dataset\\images\\train\\K3_AB1784UM.jpg: corrupt JPEG restored and saved\n",
      "\u001b[34m\u001b[1mtrain: \u001b[0mWARNING  D:\\Coding\\Projects\\number-plate-recognition\\dataset\\images\\train\\K3_AB1854IX.jpg: corrupt JPEG restored and saved\n",
      "\u001b[34m\u001b[1mtrain: \u001b[0mWARNING  D:\\Coding\\Projects\\number-plate-recognition\\dataset\\images\\train\\K3_AB1865PE.jpg: corrupt JPEG restored and saved\n",
      "\u001b[34m\u001b[1mtrain: \u001b[0mWARNING  D:\\Coding\\Projects\\number-plate-recognition\\dataset\\images\\train\\K3_AB1867TA.jpg: corrupt JPEG restored and saved\n",
      "\u001b[34m\u001b[1mtrain: \u001b[0mWARNING  D:\\Coding\\Projects\\number-plate-recognition\\dataset\\images\\train\\K3_AB1869ON.jpg: corrupt JPEG restored and saved\n",
      "\u001b[34m\u001b[1mtrain: \u001b[0mWARNING  D:\\Coding\\Projects\\number-plate-recognition\\dataset\\images\\train\\K3_AB1896U.jpg: corrupt JPEG restored and saved\n",
      "\u001b[34m\u001b[1mtrain: \u001b[0mWARNING  D:\\Coding\\Projects\\number-plate-recognition\\dataset\\images\\train\\K3_AB1921NX.jpg: corrupt JPEG restored and saved\n",
      "\u001b[34m\u001b[1mtrain: \u001b[0mWARNING  D:\\Coding\\Projects\\number-plate-recognition\\dataset\\images\\train\\K3_AB1941AA.jpg: corrupt JPEG restored and saved\n",
      "\u001b[34m\u001b[1mtrain: \u001b[0mWARNING  D:\\Coding\\Projects\\number-plate-recognition\\dataset\\images\\train\\K3_B1361BKO.jpg: corrupt JPEG restored and saved\n",
      "\u001b[34m\u001b[1mtrain: \u001b[0mWARNING  D:\\Coding\\Projects\\number-plate-recognition\\dataset\\images\\train\\K3_B1550IQ.jpg: corrupt JPEG restored and saved\n",
      "\u001b[34m\u001b[1mtrain: \u001b[0mWARNING  D:\\Coding\\Projects\\number-plate-recognition\\dataset\\images\\train\\K3_B1673BIS.jpg: corrupt JPEG restored and saved\n",
      "\u001b[34m\u001b[1mtrain: \u001b[0mNew cache created: D:\\Coding\\Projects\\number-plate-recognition\\dataset\\labels\\train.cache\n",
      "\u001b[34m\u001b[1mval: \u001b[0mScanning D:\\Coding\\Projects\\number-plate-recognition\\dataset\\labels\\test... 44 images, 0 backgrounds, 0 corrupt: 100%|██████████| 44/44 [00:00<00:00, 86.87it/s] \n",
      "\u001b[34m\u001b[1mval: \u001b[0mWARNING  D:\\Coding\\Projects\\number-plate-recognition\\dataset\\images\\test\\K4_H8520RE.jpg: corrupt JPEG restored and saved\n",
      "\u001b[34m\u001b[1mval: \u001b[0mWARNING  D:\\Coding\\Projects\\number-plate-recognition\\dataset\\images\\test\\K4_K1640QL.jpg: corrupt JPEG restored and saved\n",
      "\u001b[34m\u001b[1mval: \u001b[0mWARNING  D:\\Coding\\Projects\\number-plate-recognition\\dataset\\images\\test\\K4_L1472ADO.jpg: corrupt JPEG restored and saved\n",
      "\u001b[34m\u001b[1mval: \u001b[0mWARNING  D:\\Coding\\Projects\\number-plate-recognition\\dataset\\images\\test\\K4_R1776EL.jpg: corrupt JPEG restored and saved\n",
      "\u001b[34m\u001b[1mval: \u001b[0mNew cache created: D:\\Coding\\Projects\\number-plate-recognition\\dataset\\labels\\test.cache\n",
      "Plotting labels to d:\\Coding\\Projects\\number-plate-recognition\\runs\\detect\\train18\\labels.jpg... \n",
      "\u001b[34m\u001b[1moptimizer:\u001b[0m 'optimizer=auto' found, ignoring 'lr0=0.01' and 'momentum=0.937' and determining best 'optimizer', 'lr0' and 'momentum' automatically... \n",
      "\u001b[34m\u001b[1moptimizer:\u001b[0m AdamW(lr=0.002, momentum=0.9) with parameter groups 57 weight(decay=0.0), 64 weight(decay=0.0005), 63 bias(decay=0.0)\n",
      "Image sizes 640 train, 640 val\n",
      "Using 0 dataloader workers\n",
      "Logging results to \u001b[1md:\\Coding\\Projects\\number-plate-recognition\\runs\\detect\\train18\u001b[0m\n",
      "Starting training for 5 epochs...\n",
      "\n",
      "      Epoch    GPU_mem   box_loss   cls_loss   dfl_loss  Instances       Size\n",
      "        1/5         0G      4.106      5.353      4.324         17        640: 100%|██████████| 25/25 [06:32<00:00, 15.71s/it]\n",
      "                 Class     Images  Instances      Box(P          R      mAP50  mAP50-95): 100%|██████████| 2/2 [00:21<00:00, 10.52s/it]\n",
      "                   all         44         44          0          0          0          0\n",
      "\n",
      "      Epoch    GPU_mem   box_loss   cls_loss   dfl_loss  Instances       Size\n",
      "        2/5         0G      3.508      4.368      3.923         18        640: 100%|██████████| 25/25 [06:21<00:00, 15.28s/it]\n",
      "                 Class     Images  Instances      Box(P          R      mAP50  mAP50-95): 100%|██████████| 2/2 [00:21<00:00, 10.64s/it]\n",
      "                   all         44         44          0          0          0          0\n",
      "\n",
      "      Epoch    GPU_mem   box_loss   cls_loss   dfl_loss  Instances       Size\n",
      "        3/5         0G      3.069      3.769      3.399         15        640: 100%|██████████| 25/25 [07:01<00:00, 16.86s/it]\n",
      "                 Class     Images  Instances      Box(P          R      mAP50  mAP50-95): 100%|██████████| 2/2 [00:20<00:00, 10.35s/it]\n",
      "                   all         44         44          0          0          0          0\n",
      "\n",
      "      Epoch    GPU_mem   box_loss   cls_loss   dfl_loss  Instances       Size\n",
      "        4/5         0G      2.814      3.393      3.036         25        640: 100%|██████████| 25/25 [06:26<00:00, 15.45s/it]\n",
      "                 Class     Images  Instances      Box(P          R      mAP50  mAP50-95): 100%|██████████| 2/2 [00:20<00:00, 10.23s/it]\n",
      "                   all         44         44          0          0          0          0\n",
      "\n",
      "      Epoch    GPU_mem   box_loss   cls_loss   dfl_loss  Instances       Size\n",
      "        5/5         0G      2.705        3.3      2.822         23        640: 100%|██████████| 25/25 [06:21<00:00, 15.25s/it]\n",
      "                 Class     Images  Instances      Box(P          R      mAP50  mAP50-95): 100%|██████████| 2/2 [00:21<00:00, 10.62s/it]\n",
      "                   all         44         44    0.00177      0.477     0.0919     0.0271\n",
      "\n",
      "5 epochs completed in 0.577 hours.\n",
      "Optimizer stripped from d:\\Coding\\Projects\\number-plate-recognition\\runs\\detect\\train18\\weights\\last.pt, 6.2MB\n",
      "Optimizer stripped from d:\\Coding\\Projects\\number-plate-recognition\\runs\\detect\\train18\\weights\\best.pt, 6.2MB\n",
      "\n",
      "Validating d:\\Coding\\Projects\\number-plate-recognition\\runs\\detect\\train18\\weights\\best.pt...\n",
      "Ultralytics YOLOv8.0.202  Python-3.9.7 torch-2.1.0+cu121 CPU (AMD Ryzen 7 3750H with Radeon Vega Mobile Gfx)\n",
      "YOLOv8n summary (fused): 168 layers, 3005843 parameters, 0 gradients, 8.1 GFLOPs\n",
      "                 Class     Images  Instances      Box(P          R      mAP50  mAP50-95): 100%|██████████| 2/2 [00:20<00:00, 10.12s/it]\n",
      "                   all         44         44    0.00177      0.477     0.0919     0.0271\n",
      "Speed: 3.0ms preprocess, 234.5ms inference, 0.0ms loss, 5.6ms postprocess per image\n",
      "Results saved to \u001b[1md:\\Coding\\Projects\\number-plate-recognition\\runs\\detect\\train18\u001b[0m\n"
     ]
    }
   ],
   "source": [
    "# Train model (use data part 1-6)\n",
    "result = model.train(data=\"D:/Coding/Projects/number-plate-recognition/code/main/config.yaml\", epochs=5)  # train the model"
   ]
  },
  {
   "cell_type": "code",
   "execution_count": 4,
   "metadata": {},
   "outputs": [
    {
     "name": "stderr",
     "output_type": "stream",
     "text": [
      "Ultralytics YOLOv8.0.202  Python-3.9.7 torch-2.1.0+cu121 CPU (AMD Ryzen 7 3750H with Radeon Vega Mobile Gfx)\n",
      "YOLOv8n summary (fused): 168 layers, 3005843 parameters, 0 gradients, 8.1 GFLOPs\n",
      "\u001b[34m\u001b[1mval: \u001b[0mScanning D:\\Coding\\Projects\\number-plate-recognition\\dataset\\labels\\test.cache... 44 images, 0 backgrounds, 0 corrupt: 100%|██████████| 44/44 [00:00<?, ?it/s]\n",
      "\u001b[34m\u001b[1mval: \u001b[0mWARNING  D:\\Coding\\Projects\\number-plate-recognition\\dataset\\images\\test\\K4_H8520RE.jpg: corrupt JPEG restored and saved\n",
      "\u001b[34m\u001b[1mval: \u001b[0mWARNING  D:\\Coding\\Projects\\number-plate-recognition\\dataset\\images\\test\\K4_K1640QL.jpg: corrupt JPEG restored and saved\n",
      "\u001b[34m\u001b[1mval: \u001b[0mWARNING  D:\\Coding\\Projects\\number-plate-recognition\\dataset\\images\\test\\K4_L1472ADO.jpg: corrupt JPEG restored and saved\n",
      "\u001b[34m\u001b[1mval: \u001b[0mWARNING  D:\\Coding\\Projects\\number-plate-recognition\\dataset\\images\\test\\K4_R1776EL.jpg: corrupt JPEG restored and saved\n",
      "                 Class     Images  Instances      Box(P          R      mAP50  mAP50-95): 100%|██████████| 3/3 [00:18<00:00,  6.03s/it]\n",
      "                   all         44         44     0.0019      0.477     0.0937     0.0278\n",
      "Speed: 2.7ms preprocess, 180.6ms inference, 0.0ms loss, 3.8ms postprocess per image\n",
      "Results saved to \u001b[1md:\\Coding\\Projects\\number-plate-recognition\\runs\\detect\\train182\u001b[0m\n"
     ]
    }
   ],
   "source": [
    "metrics = model.val()  # evaluate model performance on the validation set"
   ]
  },
  {
   "cell_type": "code",
   "execution_count": 5,
   "metadata": {},
   "outputs": [
    {
     "name": "stderr",
     "output_type": "stream",
     "text": [
      "\n",
      "image 1/1 D:\\Coding\\Projects\\number-plate-recognition\\data\\K1_G6853EQ.jpg: 640x384 (no detections), 177.1ms\n",
      "Speed: 7.1ms preprocess, 177.1ms inference, 2.0ms postprocess per image at shape (1, 3, 640, 384)\n",
      "Ultralytics YOLOv8.0.202  Python-3.9.7 torch-2.1.0+cu121 CPU (AMD Ryzen 7 3750H with Radeon Vega Mobile Gfx)\n",
      "\n",
      "\u001b[34m\u001b[1mPyTorch:\u001b[0m starting from 'd:\\Coding\\Projects\\number-plate-recognition\\runs\\detect\\train18\\weights\\best.pt' with input shape (1, 3, 640, 640) BCHW and output shape(s) (1, 5, 8400) (5.9 MB)\n",
      "\n",
      "\u001b[34m\u001b[1mONNX:\u001b[0m starting export with onnx 1.15.0 opset 17...\n",
      "\u001b[34m\u001b[1mONNX:\u001b[0m export success  1.7s, saved as 'd:\\Coding\\Projects\\number-plate-recognition\\runs\\detect\\train18\\weights\\best.onnx' (11.7 MB)\n",
      "\n",
      "Export complete (4.3s)\n",
      "Results saved to \u001b[1mD:\\Coding\\Projects\\number-plate-recognition\\runs\\detect\\train18\\weights\u001b[0m\n",
      "Predict:         yolo predict task=detect model=d:\\Coding\\Projects\\number-plate-recognition\\runs\\detect\\train18\\weights\\best.onnx imgsz=640  \n",
      "Validate:        yolo val task=detect model=d:\\Coding\\Projects\\number-plate-recognition\\runs\\detect\\train18\\weights\\best.onnx imgsz=640 data=D:/Coding/Projects/number-plate-recognition/code/main/config.yaml  \n",
      "Visualize:       https://netron.app\n"
     ]
    }
   ],
   "source": [
    "res_predict = model(\"D:/Coding/Projects/number-plate-recognition/data/K1_G6853EQ.jpg\")  # predict on an image\n",
    "path = model.export(format=\"onnx\")  # export the model to ONNX format\n",
    "# path = model.export(format=\"torchscript\")  # export the model to ONNX format"
   ]
  },
  {
   "cell_type": "code",
   "execution_count": 6,
   "metadata": {},
   "outputs": [
    {
     "data": {
      "text/plain": [
       "[ultralytics.engine.results.Results object with attributes:\n",
       " \n",
       " boxes: ultralytics.engine.results.Boxes object\n",
       " keypoints: None\n",
       " masks: None\n",
       " names: {0: 'plat-nomor'}\n",
       " orig_img: array([[[244, 245, 241],\n",
       "         [244, 245, 241],\n",
       "         [244, 245, 241],\n",
       "         ...,\n",
       "         [ 35,  33,  32],\n",
       "         [ 37,  35,  34],\n",
       "         [ 36,  34,  33]],\n",
       " \n",
       "        [[243, 244, 240],\n",
       "         [243, 244, 240],\n",
       "         [243, 244, 240],\n",
       "         ...,\n",
       "         [ 34,  32,  31],\n",
       "         [ 37,  35,  34],\n",
       "         [ 37,  35,  34]],\n",
       " \n",
       "        [[244, 245, 241],\n",
       "         [243, 244, 240],\n",
       "         [243, 244, 240],\n",
       "         ...,\n",
       "         [ 32,  33,  31],\n",
       "         [ 34,  35,  33],\n",
       "         [ 34,  35,  33]],\n",
       " \n",
       "        ...,\n",
       " \n",
       "        [[ 67,  73,  80],\n",
       "         [ 67,  73,  80],\n",
       "         [ 70,  76,  83],\n",
       "         ...,\n",
       "         [121, 124, 128],\n",
       "         [116, 119, 123],\n",
       "         [105, 108, 112]],\n",
       " \n",
       "        [[ 60,  66,  73],\n",
       "         [ 59,  65,  72],\n",
       "         [ 63,  69,  76],\n",
       "         ...,\n",
       "         [118, 121, 125],\n",
       "         [115, 118, 122],\n",
       "         [107, 110, 114]],\n",
       " \n",
       "        [[ 55,  61,  68],\n",
       "         [ 50,  56,  63],\n",
       "         [ 55,  61,  68],\n",
       "         ...,\n",
       "         [127, 130, 134],\n",
       "         [121, 124, 128],\n",
       "         [109, 112, 116]]], dtype=uint8)\n",
       " orig_shape: (4000, 2252)\n",
       " path: 'D:\\\\Coding\\\\Projects\\\\number-plate-recognition\\\\data\\\\K1_G6853EQ.jpg'\n",
       " probs: None\n",
       " save_dir: None\n",
       " speed: {'preprocess': 7.054328918457031, 'inference': 177.07419395446777, 'postprocess': 2.0008087158203125}]"
      ]
     },
     "execution_count": 6,
     "metadata": {},
     "output_type": "execute_result"
    }
   ],
   "source": [
    "res_predict"
   ]
  },
  {
   "cell_type": "code",
   "execution_count": null,
   "metadata": {},
   "outputs": [],
   "source": [
    "# Run inference on 'bus.jpg' with arguments\n",
    "results = model.predict(\"D:/Coding/Projects/number-plate-recognition/data/K1_G6853EQ.jpg\", save=True, imgsz=320, conf=0.5)\n",
    "# results = model('bus.jpg')"
   ]
  },
  {
   "cell_type": "code",
   "execution_count": null,
   "metadata": {},
   "outputs": [],
   "source": [
    "for r in results:\n",
    "    print(r.boxes)"
   ]
  }
 ],
 "metadata": {
  "kernelspec": {
   "display_name": "env",
   "language": "python",
   "name": "python3"
  },
  "language_info": {
   "codemirror_mode": {
    "name": "ipython",
    "version": 3
   },
   "file_extension": ".py",
   "mimetype": "text/x-python",
   "name": "python",
   "nbconvert_exporter": "python",
   "pygments_lexer": "ipython3",
   "version": "3.9.7"
  }
 },
 "nbformat": 4,
 "nbformat_minor": 2
}
