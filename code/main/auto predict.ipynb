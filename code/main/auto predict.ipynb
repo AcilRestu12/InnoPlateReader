{
 "cells": [
  {
   "cell_type": "code",
   "execution_count": 65,
   "metadata": {},
   "outputs": [],
   "source": [
    "import os\n",
    "import cv2\n",
    "import imutils\n",
    "import easyocr\n",
    "import numpy as np\n",
    "import pandas as pd\n",
    "import matplotlib.pyplot as plt\n",
    "from ultralytics import YOLO"
   ]
  },
  {
   "cell_type": "markdown",
   "metadata": {},
   "source": [
    "### Load Model\n"
   ]
  },
  {
   "cell_type": "code",
   "execution_count": 66,
   "metadata": {},
   "outputs": [],
   "source": [
    "# Load a model\n",
    "model = YOLO(\"D:/Coding/Projects/number-plate-recognition/runs/detect/train24/weights/best.onnx\")"
   ]
  },
  {
   "cell_type": "markdown",
   "metadata": {},
   "source": [
    "### Ambil Nama File"
   ]
  },
  {
   "cell_type": "code",
   "execution_count": 67,
   "metadata": {},
   "outputs": [
    {
     "data": {
      "text/html": [
       "<div>\n",
       "<style scoped>\n",
       "    .dataframe tbody tr th:only-of-type {\n",
       "        vertical-align: middle;\n",
       "    }\n",
       "\n",
       "    .dataframe tbody tr th {\n",
       "        vertical-align: top;\n",
       "    }\n",
       "\n",
       "    .dataframe thead th {\n",
       "        text-align: right;\n",
       "    }\n",
       "</style>\n",
       "<table border=\"1\" class=\"dataframe\">\n",
       "  <thead>\n",
       "    <tr style=\"text-align: right;\">\n",
       "      <th></th>\n",
       "      <th>Filename</th>\n",
       "      <th>Category</th>\n",
       "      <th>Nomor Plat</th>\n",
       "      <th>Path</th>\n",
       "    </tr>\n",
       "  </thead>\n",
       "  <tbody>\n",
       "    <tr>\n",
       "      <th>0</th>\n",
       "      <td>K1_AB5092XM.jpg</td>\n",
       "      <td>K1</td>\n",
       "      <td>AB5092XM</td>\n",
       "      <td>D:/Coding/Projects/number-plate-recognition/da...</td>\n",
       "    </tr>\n",
       "    <tr>\n",
       "      <th>1</th>\n",
       "      <td>K1_AD6579AKG.jpg</td>\n",
       "      <td>K1</td>\n",
       "      <td>AD6579AKG</td>\n",
       "      <td>D:/Coding/Projects/number-plate-recognition/da...</td>\n",
       "    </tr>\n",
       "    <tr>\n",
       "      <th>2</th>\n",
       "      <td>K1_G6853EQ.jpg</td>\n",
       "      <td>K1</td>\n",
       "      <td>G6853EQ</td>\n",
       "      <td>D:/Coding/Projects/number-plate-recognition/da...</td>\n",
       "    </tr>\n",
       "    <tr>\n",
       "      <th>3</th>\n",
       "      <td>K1_R2989RP.jpg</td>\n",
       "      <td>K1</td>\n",
       "      <td>R2989RP</td>\n",
       "      <td>D:/Coding/Projects/number-plate-recognition/da...</td>\n",
       "    </tr>\n",
       "    <tr>\n",
       "      <th>4</th>\n",
       "      <td>K2_AB2761HX.jpg</td>\n",
       "      <td>K2</td>\n",
       "      <td>AB2761HX</td>\n",
       "      <td>D:/Coding/Projects/number-plate-recognition/da...</td>\n",
       "    </tr>\n",
       "    <tr>\n",
       "      <th>5</th>\n",
       "      <td>K2_AB4652YY.jpg</td>\n",
       "      <td>K2</td>\n",
       "      <td>AB4652YY</td>\n",
       "      <td>D:/Coding/Projects/number-plate-recognition/da...</td>\n",
       "    </tr>\n",
       "    <tr>\n",
       "      <th>6</th>\n",
       "      <td>K2_AB5889FX.jpg</td>\n",
       "      <td>K2</td>\n",
       "      <td>AB5889FX</td>\n",
       "      <td>D:/Coding/Projects/number-plate-recognition/da...</td>\n",
       "    </tr>\n",
       "    <tr>\n",
       "      <th>7</th>\n",
       "      <td>K2_B6449EZH.jpg</td>\n",
       "      <td>K2</td>\n",
       "      <td>B6449EZH</td>\n",
       "      <td>D:/Coding/Projects/number-plate-recognition/da...</td>\n",
       "    </tr>\n",
       "    <tr>\n",
       "      <th>8</th>\n",
       "      <td>K3_AA8767FC.jpg</td>\n",
       "      <td>K3</td>\n",
       "      <td>AA8767FC</td>\n",
       "      <td>D:/Coding/Projects/number-plate-recognition/da...</td>\n",
       "    </tr>\n",
       "    <tr>\n",
       "      <th>9</th>\n",
       "      <td>K3_AB1091SJ.jpg</td>\n",
       "      <td>K3</td>\n",
       "      <td>AB1091SJ</td>\n",
       "      <td>D:/Coding/Projects/number-plate-recognition/da...</td>\n",
       "    </tr>\n",
       "    <tr>\n",
       "      <th>10</th>\n",
       "      <td>K3_AB1780QX.jpg</td>\n",
       "      <td>K3</td>\n",
       "      <td>AB1780QX</td>\n",
       "      <td>D:/Coding/Projects/number-plate-recognition/da...</td>\n",
       "    </tr>\n",
       "    <tr>\n",
       "      <th>11</th>\n",
       "      <td>K3_AB1869IJ.jpg</td>\n",
       "      <td>K3</td>\n",
       "      <td>AB1869IJ</td>\n",
       "      <td>D:/Coding/Projects/number-plate-recognition/da...</td>\n",
       "    </tr>\n",
       "    <tr>\n",
       "      <th>12</th>\n",
       "      <td>K4_AA1450UJ.png</td>\n",
       "      <td>K4</td>\n",
       "      <td>AA1450UJ</td>\n",
       "      <td>D:/Coding/Projects/number-plate-recognition/da...</td>\n",
       "    </tr>\n",
       "    <tr>\n",
       "      <th>13</th>\n",
       "      <td>K4_AB1351IR.jpg</td>\n",
       "      <td>K4</td>\n",
       "      <td>AB1351IR</td>\n",
       "      <td>D:/Coding/Projects/number-plate-recognition/da...</td>\n",
       "    </tr>\n",
       "    <tr>\n",
       "      <th>14</th>\n",
       "      <td>K4_AB1918GG.jpg</td>\n",
       "      <td>K4</td>\n",
       "      <td>AB1918GG</td>\n",
       "      <td>D:/Coding/Projects/number-plate-recognition/da...</td>\n",
       "    </tr>\n",
       "    <tr>\n",
       "      <th>15</th>\n",
       "      <td>K4_R1776EL.jpg</td>\n",
       "      <td>K4</td>\n",
       "      <td>R1776EL</td>\n",
       "      <td>D:/Coding/Projects/number-plate-recognition/da...</td>\n",
       "    </tr>\n",
       "  </tbody>\n",
       "</table>\n",
       "</div>"
      ],
      "text/plain": [
       "            Filename Category Nomor Plat  \\\n",
       "0    K1_AB5092XM.jpg       K1   AB5092XM   \n",
       "1   K1_AD6579AKG.jpg       K1  AD6579AKG   \n",
       "2     K1_G6853EQ.jpg       K1    G6853EQ   \n",
       "3     K1_R2989RP.jpg       K1    R2989RP   \n",
       "4    K2_AB2761HX.jpg       K2   AB2761HX   \n",
       "5    K2_AB4652YY.jpg       K2   AB4652YY   \n",
       "6    K2_AB5889FX.jpg       K2   AB5889FX   \n",
       "7    K2_B6449EZH.jpg       K2   B6449EZH   \n",
       "8    K3_AA8767FC.jpg       K3   AA8767FC   \n",
       "9    K3_AB1091SJ.jpg       K3   AB1091SJ   \n",
       "10   K3_AB1780QX.jpg       K3   AB1780QX   \n",
       "11   K3_AB1869IJ.jpg       K3   AB1869IJ   \n",
       "12   K4_AA1450UJ.png       K4   AA1450UJ   \n",
       "13   K4_AB1351IR.jpg       K4   AB1351IR   \n",
       "14   K4_AB1918GG.jpg       K4   AB1918GG   \n",
       "15    K4_R1776EL.jpg       K4    R1776EL   \n",
       "\n",
       "                                                 Path  \n",
       "0   D:/Coding/Projects/number-plate-recognition/da...  \n",
       "1   D:/Coding/Projects/number-plate-recognition/da...  \n",
       "2   D:/Coding/Projects/number-plate-recognition/da...  \n",
       "3   D:/Coding/Projects/number-plate-recognition/da...  \n",
       "4   D:/Coding/Projects/number-plate-recognition/da...  \n",
       "5   D:/Coding/Projects/number-plate-recognition/da...  \n",
       "6   D:/Coding/Projects/number-plate-recognition/da...  \n",
       "7   D:/Coding/Projects/number-plate-recognition/da...  \n",
       "8   D:/Coding/Projects/number-plate-recognition/da...  \n",
       "9   D:/Coding/Projects/number-plate-recognition/da...  \n",
       "10  D:/Coding/Projects/number-plate-recognition/da...  \n",
       "11  D:/Coding/Projects/number-plate-recognition/da...  \n",
       "12  D:/Coding/Projects/number-plate-recognition/da...  \n",
       "13  D:/Coding/Projects/number-plate-recognition/da...  \n",
       "14  D:/Coding/Projects/number-plate-recognition/da...  \n",
       "15  D:/Coding/Projects/number-plate-recognition/da...  "
      ]
     },
     "execution_count": 67,
     "metadata": {},
     "output_type": "execute_result"
    }
   ],
   "source": [
    "# Lokasi folder dengan file gambar\n",
    "folder_path = \"D:/Coding/Projects/number-plate-recognition/data\"\n",
    "\n",
    "# Mendapatkan semua nama file dalam folder\n",
    "file_names = os.listdir(folder_path)\n",
    "\n",
    "# Ekstrak nomor plat dari nama file\n",
    "category_plat = [file.split('_')[0].split('.')[0] for file in file_names]\n",
    "nomor_plat = [file.split('_')[1].split('.')[0] for file in file_names]\n",
    "\n",
    "# Buat path lengkap untuk setiap file\n",
    "file_paths = [os.path.join(folder_path, file) for file in file_names]\n",
    "\n",
    "# Buat DataFrame pandas\n",
    "data = {'Filename': file_names, \"Category\": category_plat, 'Nomor Plat': nomor_plat, 'Path': file_paths}\n",
    "df = pd.DataFrame(data)\n",
    "\n",
    "# Tampilkan DataFrame\n",
    "df"
   ]
  },
  {
   "cell_type": "markdown",
   "metadata": {},
   "source": [
    "### Auto Detection & OCR"
   ]
  },
  {
   "cell_type": "code",
   "execution_count": 68,
   "metadata": {},
   "outputs": [],
   "source": [
    "# Define Font\n",
    "font = cv2.FONT_HERSHEY_SIMPLEX     # Jenis font\n",
    "font_scale = 3                      # Skala font\n",
    "font_thickness = 5                  # Ketebalan font\n",
    "font_color = (0, 255, 0)            # Warna biru (BGR)"
   ]
  },
  {
   "cell_type": "code",
   "execution_count": 69,
   "metadata": {},
   "outputs": [
    {
     "name": "stdout",
     "output_type": "stream",
     "text": [
      "Proses Ke-1 | Deteksi : K1_AB5092XM.jpg\n"
     ]
    },
    {
     "name": "stderr",
     "output_type": "stream",
     "text": [
      "Loading D:\\Coding\\Projects\\number-plate-recognition\\runs\\detect\\train24\\weights\\best.onnx for ONNX Runtime inference...\n",
      "\n",
      "image 1/1 D:\\Coding\\Projects\\number-plate-recognition\\data\\K1_AB5092XM.jpg: 640x640 1 plat-nomor, 127.8ms\n",
      "Speed: 5.0ms preprocess, 127.8ms inference, 12.0ms postprocess per image at shape (1, 3, 640, 640)\n",
      "Neither CUDA nor MPS are available - defaulting to CPU. Note: This module is much faster with a GPU.\n"
     ]
    },
    {
     "name": "stdout",
     "output_type": "stream",
     "text": [
      "Proses Ke-1 Done...\n",
      "----------------------------------------------\n",
      "\n",
      "Proses Ke-2 | Deteksi : K1_AD6579AKG.jpg\n"
     ]
    },
    {
     "name": "stderr",
     "output_type": "stream",
     "text": [
      "\n",
      "image 1/1 D:\\Coding\\Projects\\number-plate-recognition\\data\\K1_AD6579AKG.jpg: 640x640 1 plat-nomor, 195.8ms\n",
      "Speed: 5.0ms preprocess, 195.8ms inference, 78.0ms postprocess per image at shape (1, 3, 640, 640)\n",
      "Neither CUDA nor MPS are available - defaulting to CPU. Note: This module is much faster with a GPU.\n",
      "\n"
     ]
    },
    {
     "name": "stdout",
     "output_type": "stream",
     "text": [
      "Proses Ke-2 Done...\n",
      "----------------------------------------------\n",
      "\n",
      "Proses Ke-3 | Deteksi : K1_G6853EQ.jpg\n"
     ]
    },
    {
     "name": "stderr",
     "output_type": "stream",
     "text": [
      "image 1/1 D:\\Coding\\Projects\\number-plate-recognition\\data\\K1_G6853EQ.jpg: 640x640 1 plat-nomor, 120.9ms\n",
      "Speed: 4.0ms preprocess, 120.9ms inference, 68.4ms postprocess per image at shape (1, 3, 640, 640)\n",
      "Neither CUDA nor MPS are available - defaulting to CPU. Note: This module is much faster with a GPU.\n"
     ]
    },
    {
     "name": "stdout",
     "output_type": "stream",
     "text": [
      "Proses Ke-3 Done...\n",
      "----------------------------------------------\n",
      "\n",
      "Proses Ke-4 | Deteksi : K1_R2989RP.jpg\n"
     ]
    },
    {
     "name": "stderr",
     "output_type": "stream",
     "text": [
      "\n",
      "image 1/1 D:\\Coding\\Projects\\number-plate-recognition\\data\\K1_R2989RP.jpg: 640x640 1 plat-nomor, 189.8ms\n",
      "Speed: 5.1ms preprocess, 189.8ms inference, 1.0ms postprocess per image at shape (1, 3, 640, 640)\n",
      "Neither CUDA nor MPS are available - defaulting to CPU. Note: This module is much faster with a GPU.\n",
      "\n"
     ]
    },
    {
     "name": "stdout",
     "output_type": "stream",
     "text": [
      "Proses Ke-4 Done...\n",
      "----------------------------------------------\n",
      "\n",
      "Proses Ke-5 | Deteksi : K2_AB2761HX.jpg\n"
     ]
    },
    {
     "name": "stderr",
     "output_type": "stream",
     "text": [
      "image 1/1 D:\\Coding\\Projects\\number-plate-recognition\\data\\K2_AB2761HX.jpg: 640x640 1 plat-nomor, 142.6ms\n",
      "Speed: 6.0ms preprocess, 142.6ms inference, 1.0ms postprocess per image at shape (1, 3, 640, 640)\n",
      "Neither CUDA nor MPS are available - defaulting to CPU. Note: This module is much faster with a GPU.\n",
      "\n"
     ]
    },
    {
     "name": "stdout",
     "output_type": "stream",
     "text": [
      "Proses Ke-5 Done...\n",
      "----------------------------------------------\n",
      "\n",
      "Proses Ke-6 | Deteksi : K2_AB4652YY.jpg\n"
     ]
    },
    {
     "name": "stderr",
     "output_type": "stream",
     "text": [
      "image 1/1 D:\\Coding\\Projects\\number-plate-recognition\\data\\K2_AB4652YY.jpg: 640x640 1 plat-nomor, 129.1ms\n",
      "Speed: 5.5ms preprocess, 129.1ms inference, 67.9ms postprocess per image at shape (1, 3, 640, 640)\n",
      "Neither CUDA nor MPS are available - defaulting to CPU. Note: This module is much faster with a GPU.\n",
      "\n"
     ]
    },
    {
     "name": "stdout",
     "output_type": "stream",
     "text": [
      "Proses Ke-6 Done...\n",
      "----------------------------------------------\n",
      "\n",
      "Proses Ke-7 | Deteksi : K2_AB5889FX.jpg\n"
     ]
    },
    {
     "name": "stderr",
     "output_type": "stream",
     "text": [
      "image 1/1 D:\\Coding\\Projects\\number-plate-recognition\\data\\K2_AB5889FX.jpg: 640x640 1 plat-nomor, 180.3ms\n",
      "Speed: 4.0ms preprocess, 180.3ms inference, 1.0ms postprocess per image at shape (1, 3, 640, 640)\n",
      "Neither CUDA nor MPS are available - defaulting to CPU. Note: This module is much faster with a GPU.\n",
      "\n"
     ]
    },
    {
     "name": "stdout",
     "output_type": "stream",
     "text": [
      "Proses Ke-7 Done...\n",
      "----------------------------------------------\n",
      "\n",
      "Proses Ke-8 | Deteksi : K2_B6449EZH.jpg\n"
     ]
    },
    {
     "name": "stderr",
     "output_type": "stream",
     "text": [
      "image 1/1 D:\\Coding\\Projects\\number-plate-recognition\\data\\K2_B6449EZH.jpg: 640x640 1 plat-nomor, 119.2ms\n",
      "Speed: 4.0ms preprocess, 119.2ms inference, 50.6ms postprocess per image at shape (1, 3, 640, 640)\n",
      "Neither CUDA nor MPS are available - defaulting to CPU. Note: This module is much faster with a GPU.\n",
      "\n",
      "image 1/1 D:\\Coding\\Projects\\number-plate-recognition\\data\\K3_AA8767FC.jpg: 640x640 1 plat-nomor, 133.8ms\n",
      "Speed: 3.8ms preprocess, 133.8ms inference, 1.0ms postprocess per image at shape (1, 3, 640, 640)\n",
      "Neither CUDA nor MPS are available - defaulting to CPU. Note: This module is much faster with a GPU.\n"
     ]
    },
    {
     "name": "stdout",
     "output_type": "stream",
     "text": [
      "Proses Ke-8 Done...\n",
      "----------------------------------------------\n",
      "\n",
      "Proses Ke-9 | Deteksi : K3_AA8767FC.jpg\n",
      "Proses Ke-9 Done...\n",
      "----------------------------------------------\n",
      "\n",
      "Proses Ke-10 | Deteksi : K3_AB1091SJ.jpg\n"
     ]
    },
    {
     "name": "stderr",
     "output_type": "stream",
     "text": [
      "\n",
      "image 1/1 D:\\Coding\\Projects\\number-plate-recognition\\data\\K3_AB1091SJ.jpg: 640x640 1 plat-nomor, 132.3ms\n",
      "Speed: 6.5ms preprocess, 132.3ms inference, 18.0ms postprocess per image at shape (1, 3, 640, 640)\n",
      "Neither CUDA nor MPS are available - defaulting to CPU. Note: This module is much faster with a GPU.\n",
      "\n"
     ]
    },
    {
     "name": "stdout",
     "output_type": "stream",
     "text": [
      "Proses Ke-10 Done...\n",
      "----------------------------------------------\n",
      "\n",
      "Proses Ke-11 | Deteksi : K3_AB1780QX.jpg\n"
     ]
    },
    {
     "name": "stderr",
     "output_type": "stream",
     "text": [
      "image 1/1 D:\\Coding\\Projects\\number-plate-recognition\\data\\K3_AB1780QX.jpg: 640x640 1 plat-nomor, 150.0ms\n",
      "Speed: 5.0ms preprocess, 150.0ms inference, 1.0ms postprocess per image at shape (1, 3, 640, 640)\n",
      "Neither CUDA nor MPS are available - defaulting to CPU. Note: This module is much faster with a GPU.\n",
      "\n"
     ]
    },
    {
     "name": "stdout",
     "output_type": "stream",
     "text": [
      "Proses Ke-11 Done...\n",
      "----------------------------------------------\n",
      "\n",
      "Proses Ke-12 | Deteksi : K3_AB1869IJ.jpg\n"
     ]
    },
    {
     "name": "stderr",
     "output_type": "stream",
     "text": [
      "image 1/1 D:\\Coding\\Projects\\number-plate-recognition\\data\\K3_AB1869IJ.jpg: 640x640 1 plat-nomor, 166.2ms\n",
      "Speed: 6.1ms preprocess, 166.2ms inference, 39.7ms postprocess per image at shape (1, 3, 640, 640)\n",
      "Neither CUDA nor MPS are available - defaulting to CPU. Note: This module is much faster with a GPU.\n",
      "\n"
     ]
    },
    {
     "name": "stdout",
     "output_type": "stream",
     "text": [
      "Proses Ke-12 Done...\n",
      "----------------------------------------------\n",
      "\n",
      "Proses Ke-13 | Deteksi : K4_AA1450UJ.png\n"
     ]
    },
    {
     "name": "stderr",
     "output_type": "stream",
     "text": [
      "image 1/1 D:\\Coding\\Projects\\number-plate-recognition\\data\\K4_AA1450UJ.png: 640x640 1 plat-nomor, 353.7ms\n",
      "Speed: 11.1ms preprocess, 353.7ms inference, 21.1ms postprocess per image at shape (1, 3, 640, 640)\n",
      "Neither CUDA nor MPS are available - defaulting to CPU. Note: This module is much faster with a GPU.\n",
      "\n"
     ]
    },
    {
     "name": "stdout",
     "output_type": "stream",
     "text": [
      "Proses Ke-13 Done...\n",
      "----------------------------------------------\n",
      "\n",
      "Proses Ke-14 | Deteksi : K4_AB1351IR.jpg\n"
     ]
    },
    {
     "name": "stderr",
     "output_type": "stream",
     "text": [
      "image 1/1 D:\\Coding\\Projects\\number-plate-recognition\\data\\K4_AB1351IR.jpg: 640x640 1 plat-nomor, 180.9ms\n",
      "Speed: 6.0ms preprocess, 180.9ms inference, 1.0ms postprocess per image at shape (1, 3, 640, 640)\n",
      "Neither CUDA nor MPS are available - defaulting to CPU. Note: This module is much faster with a GPU.\n"
     ]
    },
    {
     "name": "stdout",
     "output_type": "stream",
     "text": [
      "Proses Ke-14 Done...\n",
      "----------------------------------------------\n",
      "\n",
      "Proses Ke-15 | Deteksi : K4_AB1918GG.jpg\n"
     ]
    },
    {
     "name": "stderr",
     "output_type": "stream",
     "text": [
      "\n",
      "image 1/1 D:\\Coding\\Projects\\number-plate-recognition\\data\\K4_AB1918GG.jpg: 640x640 1 plat-nomor, 147.3ms\n",
      "Speed: 5.6ms preprocess, 147.3ms inference, 17.0ms postprocess per image at shape (1, 3, 640, 640)\n",
      "Neither CUDA nor MPS are available - defaulting to CPU. Note: This module is much faster with a GPU.\n",
      "\n"
     ]
    },
    {
     "name": "stdout",
     "output_type": "stream",
     "text": [
      "Proses Ke-15 Done...\n",
      "----------------------------------------------\n",
      "\n",
      "Proses Ke-16 | Deteksi : K4_R1776EL.jpg\n"
     ]
    },
    {
     "name": "stderr",
     "output_type": "stream",
     "text": [
      "image 1/1 D:\\Coding\\Projects\\number-plate-recognition\\data\\K4_R1776EL.jpg: 640x640 1 plat-nomor, 299.5ms\n",
      "Speed: 5.0ms preprocess, 299.5ms inference, 4.0ms postprocess per image at shape (1, 3, 640, 640)\n",
      "Neither CUDA nor MPS are available - defaulting to CPU. Note: This module is much faster with a GPU.\n"
     ]
    },
    {
     "name": "stdout",
     "output_type": "stream",
     "text": [
      "Proses Ke-16 Done...\n",
      "----------------------------------------------\n",
      "\n"
     ]
    }
   ],
   "source": [
    "folder_path_result = 'D:/Coding/Projects/number-plate-recognition/code/main/results'\n",
    "results_OCR = []\n",
    "for index, row in df.iterrows():\n",
    "    filename = row[\"Filename\"]\n",
    "    category = row[\"Category\"]\n",
    "    nomor_plat = row[\"Nomor Plat\"]\n",
    "    path = row[\"Path\"]\n",
    "    print(f'Proses Ke-{index+1} | Deteksi : {filename}')\n",
    "    \n",
    "    # Read image\n",
    "    img = cv2.imread(path)\n",
    "    img_size = img.shape[0:2]\n",
    "\n",
    "    # Predict plat\n",
    "    results = model(path, conf=0.5)\n",
    "    \n",
    "    # Predict plat\n",
    "    results = results[0]\n",
    "    x1, y1, x2, y2 = None, None, None, None\n",
    "    \n",
    "    # Draw rectangle\n",
    "    for result in results.boxes.data.tolist():\n",
    "        x1, y1, x2, y2, score, class_id = result\n",
    "        cropped_image = img[int(y1):int(y2), int(x1):int(x2)]\n",
    "        \n",
    "    # Melakukan text recognition dengan easy ocr\n",
    "    reader = easyocr.Reader(['en'])\n",
    "    resultOcr = reader.readtext(cropped_image)\n",
    "    \n",
    "    # Mengambil hasil recognition plat\n",
    "    text_to_write = \" \".join([res[1] for res in resultOcr])\n",
    "    results_OCR.append(text_to_write)\n",
    "    \n",
    "    # Gambar rectangle\n",
    "    imgDraw = cv2.rectangle(img, (int(x1), int(y1)), (int(x2), int(y2)), font_color, font_thickness)  # font_color adalah warna merah\n",
    "\n",
    "    # Tulis kata\n",
    "    imgDraw2 = cv2.putText(imgDraw, text_to_write, (int(x1), int(y1) - 10), font, font_scale, font_color, font_thickness)  # font_color adalah warna merah\n",
    "\n",
    "    # Simpan gambar yang telah dimodifikasi\n",
    "    cv2.imwrite(os.path.join(folder_path_result, filename), imgDraw2)\n",
    "    # plt.imshow(cv2.cvtColor(imgDraw2, cv2.COLOR_BGR2RGB))\n",
    "    \n",
    "    print(f'Proses Ke-{index+1} Done...')\n",
    "    print('----------------------------------------------\\n')"
   ]
  },
  {
   "cell_type": "code",
   "execution_count": 70,
   "metadata": {},
   "outputs": [
    {
     "data": {
      "text/plain": [
       "['AB 5092.XM 05 . 27',\n",
       " 'AD 6579 AKC OsaKhi 08 ,2 4 HELMET',\n",
       " \"C 6853 Eq '4\",\n",
       " 'R   2989 RP 04 ,25',\n",
       " 'B HX 28 2761 02',\n",
       " 'AB Yy 4652',\n",
       " 'AB 5889 FX 27 12',\n",
       " '8 6Ll9 EZH 09.27',\n",
       " 'Aa\" 8767 FC 01.24',\n",
       " \"AB 1091 SJ 04'25\",\n",
       " 'OX AB 1780 25 0 |',\n",
       " 'MAB 1869 | J] 12.24',\n",
       " 'AA 1450 4j',\n",
       " 'AB 1351 IR G5  2 8',\n",
       " 'AB 1918 G6 12 27 HoNda Tugu 074520423',\n",
       " 'R 1776 EL 08.27']"
      ]
     },
     "execution_count": 70,
     "metadata": {},
     "output_type": "execute_result"
    }
   ],
   "source": [
    "results_OCR"
   ]
  },
  {
   "cell_type": "code",
   "execution_count": 71,
   "metadata": {},
   "outputs": [
    {
     "data": {
      "text/html": [
       "<div>\n",
       "<style scoped>\n",
       "    .dataframe tbody tr th:only-of-type {\n",
       "        vertical-align: middle;\n",
       "    }\n",
       "\n",
       "    .dataframe tbody tr th {\n",
       "        vertical-align: top;\n",
       "    }\n",
       "\n",
       "    .dataframe thead th {\n",
       "        text-align: right;\n",
       "    }\n",
       "</style>\n",
       "<table border=\"1\" class=\"dataframe\">\n",
       "  <thead>\n",
       "    <tr style=\"text-align: right;\">\n",
       "      <th></th>\n",
       "      <th>Filename</th>\n",
       "      <th>Category</th>\n",
       "      <th>Nomor Plat</th>\n",
       "      <th>Path</th>\n",
       "      <th>Prediction</th>\n",
       "    </tr>\n",
       "  </thead>\n",
       "  <tbody>\n",
       "    <tr>\n",
       "      <th>0</th>\n",
       "      <td>K1_AB5092XM.jpg</td>\n",
       "      <td>K1</td>\n",
       "      <td>AB5092XM</td>\n",
       "      <td>D:/Coding/Projects/number-plate-recognition/da...</td>\n",
       "      <td>AB 5092.XM 05 . 27</td>\n",
       "    </tr>\n",
       "    <tr>\n",
       "      <th>1</th>\n",
       "      <td>K1_AD6579AKG.jpg</td>\n",
       "      <td>K1</td>\n",
       "      <td>AD6579AKG</td>\n",
       "      <td>D:/Coding/Projects/number-plate-recognition/da...</td>\n",
       "      <td>AD 6579 AKC OsaKhi 08 ,2 4 HELMET</td>\n",
       "    </tr>\n",
       "    <tr>\n",
       "      <th>2</th>\n",
       "      <td>K1_G6853EQ.jpg</td>\n",
       "      <td>K1</td>\n",
       "      <td>G6853EQ</td>\n",
       "      <td>D:/Coding/Projects/number-plate-recognition/da...</td>\n",
       "      <td>C 6853 Eq '4</td>\n",
       "    </tr>\n",
       "    <tr>\n",
       "      <th>3</th>\n",
       "      <td>K1_R2989RP.jpg</td>\n",
       "      <td>K1</td>\n",
       "      <td>R2989RP</td>\n",
       "      <td>D:/Coding/Projects/number-plate-recognition/da...</td>\n",
       "      <td>R   2989 RP 04 ,25</td>\n",
       "    </tr>\n",
       "    <tr>\n",
       "      <th>4</th>\n",
       "      <td>K2_AB2761HX.jpg</td>\n",
       "      <td>K2</td>\n",
       "      <td>AB2761HX</td>\n",
       "      <td>D:/Coding/Projects/number-plate-recognition/da...</td>\n",
       "      <td>B HX 28 2761 02</td>\n",
       "    </tr>\n",
       "    <tr>\n",
       "      <th>5</th>\n",
       "      <td>K2_AB4652YY.jpg</td>\n",
       "      <td>K2</td>\n",
       "      <td>AB4652YY</td>\n",
       "      <td>D:/Coding/Projects/number-plate-recognition/da...</td>\n",
       "      <td>AB Yy 4652</td>\n",
       "    </tr>\n",
       "    <tr>\n",
       "      <th>6</th>\n",
       "      <td>K2_AB5889FX.jpg</td>\n",
       "      <td>K2</td>\n",
       "      <td>AB5889FX</td>\n",
       "      <td>D:/Coding/Projects/number-plate-recognition/da...</td>\n",
       "      <td>AB 5889 FX 27 12</td>\n",
       "    </tr>\n",
       "    <tr>\n",
       "      <th>7</th>\n",
       "      <td>K2_B6449EZH.jpg</td>\n",
       "      <td>K2</td>\n",
       "      <td>B6449EZH</td>\n",
       "      <td>D:/Coding/Projects/number-plate-recognition/da...</td>\n",
       "      <td>8 6Ll9 EZH 09.27</td>\n",
       "    </tr>\n",
       "    <tr>\n",
       "      <th>8</th>\n",
       "      <td>K3_AA8767FC.jpg</td>\n",
       "      <td>K3</td>\n",
       "      <td>AA8767FC</td>\n",
       "      <td>D:/Coding/Projects/number-plate-recognition/da...</td>\n",
       "      <td>Aa\" 8767 FC 01.24</td>\n",
       "    </tr>\n",
       "    <tr>\n",
       "      <th>9</th>\n",
       "      <td>K3_AB1091SJ.jpg</td>\n",
       "      <td>K3</td>\n",
       "      <td>AB1091SJ</td>\n",
       "      <td>D:/Coding/Projects/number-plate-recognition/da...</td>\n",
       "      <td>AB 1091 SJ 04'25</td>\n",
       "    </tr>\n",
       "    <tr>\n",
       "      <th>10</th>\n",
       "      <td>K3_AB1780QX.jpg</td>\n",
       "      <td>K3</td>\n",
       "      <td>AB1780QX</td>\n",
       "      <td>D:/Coding/Projects/number-plate-recognition/da...</td>\n",
       "      <td>OX AB 1780 25 0 |</td>\n",
       "    </tr>\n",
       "    <tr>\n",
       "      <th>11</th>\n",
       "      <td>K3_AB1869IJ.jpg</td>\n",
       "      <td>K3</td>\n",
       "      <td>AB1869IJ</td>\n",
       "      <td>D:/Coding/Projects/number-plate-recognition/da...</td>\n",
       "      <td>MAB 1869 | J] 12.24</td>\n",
       "    </tr>\n",
       "    <tr>\n",
       "      <th>12</th>\n",
       "      <td>K4_AA1450UJ.png</td>\n",
       "      <td>K4</td>\n",
       "      <td>AA1450UJ</td>\n",
       "      <td>D:/Coding/Projects/number-plate-recognition/da...</td>\n",
       "      <td>AA 1450 4j</td>\n",
       "    </tr>\n",
       "    <tr>\n",
       "      <th>13</th>\n",
       "      <td>K4_AB1351IR.jpg</td>\n",
       "      <td>K4</td>\n",
       "      <td>AB1351IR</td>\n",
       "      <td>D:/Coding/Projects/number-plate-recognition/da...</td>\n",
       "      <td>AB 1351 IR G5  2 8</td>\n",
       "    </tr>\n",
       "    <tr>\n",
       "      <th>14</th>\n",
       "      <td>K4_AB1918GG.jpg</td>\n",
       "      <td>K4</td>\n",
       "      <td>AB1918GG</td>\n",
       "      <td>D:/Coding/Projects/number-plate-recognition/da...</td>\n",
       "      <td>AB 1918 G6 12 27 HoNda Tugu 074520423</td>\n",
       "    </tr>\n",
       "    <tr>\n",
       "      <th>15</th>\n",
       "      <td>K4_R1776EL.jpg</td>\n",
       "      <td>K4</td>\n",
       "      <td>R1776EL</td>\n",
       "      <td>D:/Coding/Projects/number-plate-recognition/da...</td>\n",
       "      <td>R 1776 EL 08.27</td>\n",
       "    </tr>\n",
       "  </tbody>\n",
       "</table>\n",
       "</div>"
      ],
      "text/plain": [
       "            Filename Category Nomor Plat  \\\n",
       "0    K1_AB5092XM.jpg       K1   AB5092XM   \n",
       "1   K1_AD6579AKG.jpg       K1  AD6579AKG   \n",
       "2     K1_G6853EQ.jpg       K1    G6853EQ   \n",
       "3     K1_R2989RP.jpg       K1    R2989RP   \n",
       "4    K2_AB2761HX.jpg       K2   AB2761HX   \n",
       "5    K2_AB4652YY.jpg       K2   AB4652YY   \n",
       "6    K2_AB5889FX.jpg       K2   AB5889FX   \n",
       "7    K2_B6449EZH.jpg       K2   B6449EZH   \n",
       "8    K3_AA8767FC.jpg       K3   AA8767FC   \n",
       "9    K3_AB1091SJ.jpg       K3   AB1091SJ   \n",
       "10   K3_AB1780QX.jpg       K3   AB1780QX   \n",
       "11   K3_AB1869IJ.jpg       K3   AB1869IJ   \n",
       "12   K4_AA1450UJ.png       K4   AA1450UJ   \n",
       "13   K4_AB1351IR.jpg       K4   AB1351IR   \n",
       "14   K4_AB1918GG.jpg       K4   AB1918GG   \n",
       "15    K4_R1776EL.jpg       K4    R1776EL   \n",
       "\n",
       "                                                 Path  \\\n",
       "0   D:/Coding/Projects/number-plate-recognition/da...   \n",
       "1   D:/Coding/Projects/number-plate-recognition/da...   \n",
       "2   D:/Coding/Projects/number-plate-recognition/da...   \n",
       "3   D:/Coding/Projects/number-plate-recognition/da...   \n",
       "4   D:/Coding/Projects/number-plate-recognition/da...   \n",
       "5   D:/Coding/Projects/number-plate-recognition/da...   \n",
       "6   D:/Coding/Projects/number-plate-recognition/da...   \n",
       "7   D:/Coding/Projects/number-plate-recognition/da...   \n",
       "8   D:/Coding/Projects/number-plate-recognition/da...   \n",
       "9   D:/Coding/Projects/number-plate-recognition/da...   \n",
       "10  D:/Coding/Projects/number-plate-recognition/da...   \n",
       "11  D:/Coding/Projects/number-plate-recognition/da...   \n",
       "12  D:/Coding/Projects/number-plate-recognition/da...   \n",
       "13  D:/Coding/Projects/number-plate-recognition/da...   \n",
       "14  D:/Coding/Projects/number-plate-recognition/da...   \n",
       "15  D:/Coding/Projects/number-plate-recognition/da...   \n",
       "\n",
       "                               Prediction  \n",
       "0                      AB 5092.XM 05 . 27  \n",
       "1       AD 6579 AKC OsaKhi 08 ,2 4 HELMET  \n",
       "2                            C 6853 Eq '4  \n",
       "3                      R   2989 RP 04 ,25  \n",
       "4                         B HX 28 2761 02  \n",
       "5                              AB Yy 4652  \n",
       "6                        AB 5889 FX 27 12  \n",
       "7                        8 6Ll9 EZH 09.27  \n",
       "8                       Aa\" 8767 FC 01.24  \n",
       "9                        AB 1091 SJ 04'25  \n",
       "10                      OX AB 1780 25 0 |  \n",
       "11                    MAB 1869 | J] 12.24  \n",
       "12                             AA 1450 4j  \n",
       "13                     AB 1351 IR G5  2 8  \n",
       "14  AB 1918 G6 12 27 HoNda Tugu 074520423  \n",
       "15                        R 1776 EL 08.27  "
      ]
     },
     "execution_count": 71,
     "metadata": {},
     "output_type": "execute_result"
    }
   ],
   "source": [
    "df[\"Prediction\"] = results_OCR\n",
    "df"
   ]
  }
 ],
 "metadata": {
  "kernelspec": {
   "display_name": "env",
   "language": "python",
   "name": "python3"
  },
  "language_info": {
   "codemirror_mode": {
    "name": "ipython",
    "version": 3
   },
   "file_extension": ".py",
   "mimetype": "text/x-python",
   "name": "python",
   "nbconvert_exporter": "python",
   "pygments_lexer": "ipython3",
   "version": "3.9.7"
  }
 },
 "nbformat": 4,
 "nbformat_minor": 2
}
