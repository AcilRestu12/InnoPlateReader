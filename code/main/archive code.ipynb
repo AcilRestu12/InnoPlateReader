{
 "cells": [
  {
   "cell_type": "markdown",
   "metadata": {},
   "source": [
    "## Predict"
   ]
  },
  {
   "cell_type": "code",
   "execution_count": null,
   "metadata": {},
   "outputs": [],
   "source": [
    "# # Load image\n",
    "# path_image = 'D:/Coding/Projects/number-plate-recognition/data/K4_R1776EL.jpg'\n",
    "# img = cv2.imread(path_image)\n",
    "# img_size = img.shape[0:2]\n",
    "\n",
    "# # Predict plat\n",
    "# results = model(path_image)[0]\n",
    "# x1, y1, x2, y2 = None, None, None, None\n",
    "# # Draw rectangle\n",
    "# for result in results.boxes.data.tolist():\n",
    "#     x1, y1, x2, y2, score, class_id = result\n",
    "#     cropped_image = img[int(y1):int(y2), int(x1):int(x2)]\n",
    "#     cv2.rectangle(img, (int(x1), int(y1)), (int(x2), int(y2)), (0, 255, 0), 4)\n",
    "#     cv2.putText(img, results.names[int(class_id)].upper(), (int(x1), int(y1 - 10)),\n",
    "#             cv2.FONT_HERSHEY_SIMPLEX, 1.3, (0, 255, 0), 3, cv2.LINE_AA)\n",
    "#     print(results.names[int(class_id)].upper())\n",
    "\n",
    "# # Show image\n",
    "# # cv2.namedWindow('image', cv2.WINDOW_NORMAL)  # WINDOW_NORMAL memungkinkan pengubahan ukuran jendela\n",
    "# plt.imshow(cv2.cvtColor(img, cv2.COLOR_BGR2RGB))\n",
    "# # Simpan gambar yang telah di-crop\n",
    "# cv2.imwrite(\"hasil_cropped.jpg\", cropped_image)\n",
    "# # cv2.imshow('image', img)\n",
    "# # cv2.waitKey(0)\n",
    "# # cv2.destroyAllWindows()\n",
    "\n",
    "# View results\n",
    "# for r in results:\n",
    "#     print(r.boxes)  # print the Boxes object containing the detection bounding boxes"
   ]
  }
 ],
 "metadata": {
  "language_info": {
   "name": "python"
  }
 },
 "nbformat": 4,
 "nbformat_minor": 2
}
