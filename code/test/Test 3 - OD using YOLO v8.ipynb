{
 "cells": [
  {
   "cell_type": "code",
   "execution_count": 1,
   "metadata": {},
   "outputs": [],
   "source": [
    "import os\n",
    "import cv2\n",
    "from ultralytics import YOLO"
   ]
  },
  {
   "cell_type": "markdown",
   "metadata": {},
   "source": [
    "### Train YOLO"
   ]
  },
  {
   "cell_type": "code",
   "execution_count": 2,
   "metadata": {},
   "outputs": [
    {
     "name": "stderr",
     "output_type": "stream",
     "text": [
      "New https://pypi.org/project/ultralytics/8.0.206 available  Update with 'pip install -U ultralytics'\n",
      "Ultralytics YOLOv8.0.202  Python-3.9.7 torch-2.1.0+cu121 CPU (AMD Ryzen 7 3750H with Radeon Vega Mobile Gfx)\n",
      "\u001b[34m\u001b[1mengine\\trainer: \u001b[0mtask=detect, mode=train, model=yolov8x-oiv7.pt, data=config.yaml, epochs=1, patience=50, batch=16, imgsz=640, save=True, save_period=-1, cache=False, device=None, workers=8, project=None, name=train9, exist_ok=False, pretrained=True, optimizer=auto, verbose=True, seed=0, deterministic=True, single_cls=False, rect=False, cos_lr=False, close_mosaic=10, resume=False, amp=True, fraction=1.0, profile=False, freeze=None, overlap_mask=True, mask_ratio=4, dropout=0.0, val=True, split=val, save_json=False, save_hybrid=False, conf=None, iou=0.7, max_det=300, half=False, dnn=False, plots=True, source=None, show=False, save_txt=False, save_conf=False, save_crop=False, show_labels=True, show_conf=True, vid_stride=1, stream_buffer=False, line_width=None, visualize=False, augment=False, agnostic_nms=False, classes=None, retina_masks=False, boxes=True, format=torchscript, keras=False, optimize=False, int8=False, dynamic=False, simplify=False, opset=None, workspace=4, nms=False, lr0=0.01, lrf=0.01, momentum=0.937, weight_decay=0.0005, warmup_epochs=3.0, warmup_momentum=0.8, warmup_bias_lr=0.1, box=7.5, cls=0.5, dfl=1.5, pose=12.0, kobj=1.0, label_smoothing=0.0, nbs=64, hsv_h=0.015, hsv_s=0.7, hsv_v=0.4, degrees=0.0, translate=0.1, scale=0.5, shear=0.0, perspective=0.0, flipud=0.0, fliplr=0.5, mosaic=1.0, mixup=0.0, copy_paste=0.0, cfg=None, tracker=botsort.yaml, save_dir=d:\\Coding\\Projects\\number-plate-recognition\\runs\\detect\\train9\n",
      "Overriding model.yaml nc=601 with nc=1\n",
      "\n",
      "                   from  n    params  module                                       arguments                     \n",
      "  0                  -1  1      2320  ultralytics.nn.modules.conv.Conv             [3, 80, 3, 2]                 \n",
      "  1                  -1  1    115520  ultralytics.nn.modules.conv.Conv             [80, 160, 3, 2]               \n",
      "  2                  -1  3    436800  ultralytics.nn.modules.block.C2f             [160, 160, 3, True]           \n",
      "  3                  -1  1    461440  ultralytics.nn.modules.conv.Conv             [160, 320, 3, 2]              \n",
      "  4                  -1  6   3281920  ultralytics.nn.modules.block.C2f             [320, 320, 6, True]           \n",
      "  5                  -1  1   1844480  ultralytics.nn.modules.conv.Conv             [320, 640, 3, 2]              \n",
      "  6                  -1  6  13117440  ultralytics.nn.modules.block.C2f             [640, 640, 6, True]           \n",
      "  7                  -1  1   3687680  ultralytics.nn.modules.conv.Conv             [640, 640, 3, 2]              \n",
      "  8                  -1  3   6969600  ultralytics.nn.modules.block.C2f             [640, 640, 3, True]           \n",
      "  9                  -1  1   1025920  ultralytics.nn.modules.block.SPPF            [640, 640, 5]                 \n",
      " 10                  -1  1         0  torch.nn.modules.upsampling.Upsample         [None, 2, 'nearest']          \n",
      " 11             [-1, 6]  1         0  ultralytics.nn.modules.conv.Concat           [1]                           \n",
      " 12                  -1  3   7379200  ultralytics.nn.modules.block.C2f             [1280, 640, 3]                \n",
      " 13                  -1  1         0  torch.nn.modules.upsampling.Upsample         [None, 2, 'nearest']          \n",
      " 14             [-1, 4]  1         0  ultralytics.nn.modules.conv.Concat           [1]                           \n",
      " 15                  -1  3   1948800  ultralytics.nn.modules.block.C2f             [960, 320, 3]                 \n",
      " 16                  -1  1    922240  ultralytics.nn.modules.conv.Conv             [320, 320, 3, 2]              \n",
      " 17            [-1, 12]  1         0  ultralytics.nn.modules.conv.Concat           [1]                           \n",
      " 18                  -1  3   7174400  ultralytics.nn.modules.block.C2f             [960, 640, 3]                 \n",
      " 19                  -1  1   3687680  ultralytics.nn.modules.conv.Conv             [640, 640, 3, 2]              \n",
      " 20             [-1, 9]  1         0  ultralytics.nn.modules.conv.Concat           [1]                           \n",
      " 21                  -1  3   7379200  ultralytics.nn.modules.block.C2f             [1280, 640, 3]                \n",
      " 22        [15, 18, 21]  1   8718931  ultralytics.nn.modules.head.Detect           [1, [320, 640, 640]]          \n",
      "YOLOv8x summary: 365 layers, 68153571 parameters, 68153555 gradients, 258.1 GFLOPs\n",
      "\n",
      "Transferred 589/595 items from pretrained weights\n",
      "\u001b[34m\u001b[1mTensorBoard: \u001b[0mStart with 'tensorboard --logdir d:\\Coding\\Projects\\number-plate-recognition\\runs\\detect\\train9', view at http://localhost:6006/\n",
      "Freezing layer 'model.22.dfl.conv.weight'\n",
      "\u001b[34m\u001b[1mtrain: \u001b[0mScanning D:\\Coding\\Projects\\number-plate-recognition\\dataset\\labels\\train.cache... 40 images, 1 backgrounds, 0 corrupt: 100%|██████████| 40/40 [00:00<?, ?it/s]\n",
      "\u001b[34m\u001b[1mtrain: \u001b[0mWARNING  D:\\Coding\\Projects\\number-plate-recognition\\dataset\\images\\train\\K1_AA2452JT.jpg: corrupt JPEG restored and saved\n",
      "\u001b[34m\u001b[1mtrain: \u001b[0mWARNING  D:\\Coding\\Projects\\number-plate-recognition\\dataset\\images\\train\\K1_AA2737QJ.jpg: corrupt JPEG restored and saved\n",
      "\u001b[34m\u001b[1mtrain: \u001b[0mWARNING  D:\\Coding\\Projects\\number-plate-recognition\\dataset\\images\\train\\K1_AA2916JA.jpg: corrupt JPEG restored and saved\n",
      "\u001b[34m\u001b[1mtrain: \u001b[0mWARNING  D:\\Coding\\Projects\\number-plate-recognition\\dataset\\images\\train\\K1_AA3168XT.jpg: corrupt JPEG restored and saved\n",
      "\u001b[34m\u001b[1mtrain: \u001b[0mWARNING  D:\\Coding\\Projects\\number-plate-recognition\\dataset\\images\\train\\K1_AA3549CN.jpg: corrupt JPEG restored and saved\n",
      "\u001b[34m\u001b[1mtrain: \u001b[0mWARNING  D:\\Coding\\Projects\\number-plate-recognition\\dataset\\images\\train\\K1_AA4617SG.jpg: corrupt JPEG restored and saved\n",
      "\u001b[34m\u001b[1mtrain: \u001b[0mWARNING  D:\\Coding\\Projects\\number-plate-recognition\\dataset\\images\\train\\K1_AA4870DC.jpg: corrupt JPEG restored and saved\n",
      "\u001b[34m\u001b[1mtrain: \u001b[0mWARNING  D:\\Coding\\Projects\\number-plate-recognition\\dataset\\images\\train\\K1_AA4874QG.jpg: corrupt JPEG restored and saved\n",
      "\u001b[34m\u001b[1mtrain: \u001b[0mWARNING  D:\\Coding\\Projects\\number-plate-recognition\\dataset\\images\\train\\K1_AA4904QJ.jpg: corrupt JPEG restored and saved\n",
      "\u001b[34m\u001b[1mtrain: \u001b[0mWARNING  D:\\Coding\\Projects\\number-plate-recognition\\dataset\\images\\train\\K1_AA5037XM.jpg: corrupt JPEG restored and saved\n",
      "\u001b[34m\u001b[1mtrain: \u001b[0mWARNING  D:\\Coding\\Projects\\number-plate-recognition\\dataset\\images\\train\\K2_4771APF.jpg: corrupt JPEG restored and saved\n",
      "\u001b[34m\u001b[1mtrain: \u001b[0mWARNING  D:\\Coding\\Projects\\number-plate-recognition\\dataset\\images\\train\\K2_AA2178HP.jpg: corrupt JPEG restored and saved\n",
      "\u001b[34m\u001b[1mtrain: \u001b[0mWARNING  D:\\Coding\\Projects\\number-plate-recognition\\dataset\\images\\train\\K2_AA3019NK.jpg: corrupt JPEG restored and saved\n",
      "\u001b[34m\u001b[1mtrain: \u001b[0mWARNING  D:\\Coding\\Projects\\number-plate-recognition\\dataset\\images\\train\\K2_AA3037AEB.jpg: corrupt JPEG restored and saved\n",
      "\u001b[34m\u001b[1mtrain: \u001b[0mWARNING  D:\\Coding\\Projects\\number-plate-recognition\\dataset\\images\\train\\K2_AA3572ADB.jpg: corrupt JPEG restored and saved\n",
      "\u001b[34m\u001b[1mtrain: \u001b[0mWARNING  D:\\Coding\\Projects\\number-plate-recognition\\dataset\\images\\train\\K2_AA4399AAB.jpg: corrupt JPEG restored and saved\n",
      "\u001b[34m\u001b[1mtrain: \u001b[0mWARNING  D:\\Coding\\Projects\\number-plate-recognition\\dataset\\images\\train\\K2_AA5053WG.jpg: corrupt JPEG restored and saved\n",
      "\u001b[34m\u001b[1mtrain: \u001b[0mWARNING  D:\\Coding\\Projects\\number-plate-recognition\\dataset\\images\\train\\K2_AA6387RJ.jpg: corrupt JPEG restored and saved\n",
      "\u001b[34m\u001b[1mtrain: \u001b[0mWARNING  D:\\Coding\\Projects\\number-plate-recognition\\dataset\\images\\train\\K2_AA6711CY.jpg: corrupt JPEG restored and saved\n",
      "\u001b[34m\u001b[1mtrain: \u001b[0mWARNING  D:\\Coding\\Projects\\number-plate-recognition\\dataset\\images\\train\\K3_AA1374DE.jpg: corrupt JPEG restored and saved\n",
      "\u001b[34m\u001b[1mtrain: \u001b[0mWARNING  D:\\Coding\\Projects\\number-plate-recognition\\dataset\\images\\train\\K4_AA1174AG.jpg: corrupt JPEG restored and saved\n",
      "\u001b[34m\u001b[1mtrain: \u001b[0mWARNING  D:\\Coding\\Projects\\number-plate-recognition\\dataset\\images\\train\\K4_AA1782AK.jpg: corrupt JPEG restored and saved\n",
      "\u001b[34m\u001b[1mtrain: \u001b[0mWARNING  D:\\Coding\\Projects\\number-plate-recognition\\dataset\\images\\train\\K4_AB1015QR.jpg: corrupt JPEG restored and saved\n",
      "\u001b[34m\u001b[1mval: \u001b[0mScanning D:\\Coding\\Projects\\number-plate-recognition\\dataset\\labels\\test.cache... 0 images, 20 backgrounds, 0 corrupt: 100%|██████████| 20/20 [00:00<?, ?it/s]\n",
      "\u001b[34m\u001b[1mval: \u001b[0mWARNING  D:\\Coding\\Projects\\number-plate-recognition\\dataset\\images\\test\\K1_AA5122OK.jpg: corrupt JPEG restored and saved\n",
      "\u001b[34m\u001b[1mval: \u001b[0mWARNING  D:\\Coding\\Projects\\number-plate-recognition\\dataset\\images\\test\\K1_AA5186HC.jpg: corrupt JPEG restored and saved\n",
      "\u001b[34m\u001b[1mval: \u001b[0mWARNING  D:\\Coding\\Projects\\number-plate-recognition\\dataset\\images\\test\\K1_AA5586FB.jpg: corrupt JPEG restored and saved\n",
      "\u001b[34m\u001b[1mval: \u001b[0mWARNING  D:\\Coding\\Projects\\number-plate-recognition\\dataset\\images\\test\\K1_AA5948JY.jpg: corrupt JPEG restored and saved\n",
      "\u001b[34m\u001b[1mval: \u001b[0mWARNING  D:\\Coding\\Projects\\number-plate-recognition\\dataset\\images\\test\\K1_AA6399RP.jpg: corrupt JPEG restored and saved\n",
      "\u001b[34m\u001b[1mval: \u001b[0mWARNING  D:\\Coding\\Projects\\number-plate-recognition\\dataset\\images\\test\\K2_AA66740NY.jpg: corrupt JPEG restored and saved\n",
      "\u001b[34m\u001b[1mval: \u001b[0mWARNING  D:\\Coding\\Projects\\number-plate-recognition\\dataset\\images\\test\\K2_AB2169TE.jpg: corrupt JPEG restored and saved\n",
      "\u001b[34m\u001b[1mval: \u001b[0mWARNING  D:\\Coding\\Projects\\number-plate-recognition\\dataset\\images\\test\\K2_AB2185YR.jpg: corrupt JPEG restored and saved\n",
      "\u001b[34m\u001b[1mval: \u001b[0mWARNING  D:\\Coding\\Projects\\number-plate-recognition\\dataset\\images\\test\\K2_AB2217KE.jpg: corrupt JPEG restored and saved\n",
      "\u001b[34m\u001b[1mval: \u001b[0mWARNING  D:\\Coding\\Projects\\number-plate-recognition\\dataset\\images\\test\\K3_AA1920FA.jpg: corrupt JPEG restored and saved\n",
      "\u001b[34m\u001b[1mval: \u001b[0mWARNING  D:\\Coding\\Projects\\number-plate-recognition\\dataset\\images\\test\\K3_AA8442YV.jpg: corrupt JPEG restored and saved\n",
      "\u001b[34m\u001b[1mval: \u001b[0mWARNING  D:\\Coding\\Projects\\number-plate-recognition\\dataset\\images\\test\\K3_AA8452UF.jpg: corrupt JPEG restored and saved\n",
      "\u001b[34m\u001b[1mval: \u001b[0mWARNING  D:\\Coding\\Projects\\number-plate-recognition\\dataset\\images\\test\\K4_AB1037NW.jpg: corrupt JPEG restored and saved\n",
      "\u001b[34m\u001b[1mval: \u001b[0mWARNING  D:\\Coding\\Projects\\number-plate-recognition\\dataset\\images\\test\\K4_AB1085FJ.jpg: corrupt JPEG restored and saved\n",
      "WARNING  No labels found in D:\\Coding\\Projects\\number-plate-recognition\\dataset\\labels\\test.cache, training may not work correctly. See https://docs.ultralytics.com/datasets/detect for dataset formatting guidance.\n",
      "Plotting labels to d:\\Coding\\Projects\\number-plate-recognition\\runs\\detect\\train9\\labels.jpg... \n",
      "\u001b[34m\u001b[1moptimizer:\u001b[0m 'optimizer=auto' found, ignoring 'lr0=0.01' and 'momentum=0.937' and determining best 'optimizer', 'lr0' and 'momentum' automatically... \n",
      "\u001b[34m\u001b[1moptimizer:\u001b[0m AdamW(lr=0.002, momentum=0.9) with parameter groups 97 weight(decay=0.0), 104 weight(decay=0.0005), 103 bias(decay=0.0)\n",
      "Image sizes 640 train, 640 val\n",
      "Using 0 dataloader workers\n",
      "Logging results to \u001b[1md:\\Coding\\Projects\\number-plate-recognition\\runs\\detect\\train9\u001b[0m\n",
      "Starting training for 1 epochs...\n",
      "\n",
      "      Epoch    GPU_mem   box_loss   cls_loss   dfl_loss  Instances       Size\n",
      "        1/1         0G       1.46      6.134      1.608         15        640: 100%|██████████| 3/3 [09:31<00:00, 190.60s/it]\n",
      "                 Class     Images  Instances      Box(P          R      mAP50  mAP50-95): 100%|██████████| 1/1 [01:24<00:00, 84.89s/it]\n",
      "                   all         20          0          0          0          0          0\n",
      "WARNING  no labels found in detect set, can not compute metrics without labels\n",
      "\n",
      "1 epochs completed in 0.192 hours.\n",
      "Optimizer stripped from d:\\Coding\\Projects\\number-plate-recognition\\runs\\detect\\train9\\weights\\last.pt, 136.7MB\n",
      "Optimizer stripped from d:\\Coding\\Projects\\number-plate-recognition\\runs\\detect\\train9\\weights\\best.pt, 136.7MB\n",
      "\n",
      "Validating d:\\Coding\\Projects\\number-plate-recognition\\runs\\detect\\train9\\weights\\best.pt...\n",
      "Ultralytics YOLOv8.0.202  Python-3.9.7 torch-2.1.0+cu121 CPU (AMD Ryzen 7 3750H with Radeon Vega Mobile Gfx)\n",
      "YOLOv8x summary (fused): 268 layers, 68124531 parameters, 0 gradients, 257.4 GFLOPs\n",
      "                 Class     Images  Instances      Box(P          R      mAP50  mAP50-95): 100%|██████████| 1/1 [01:23<00:00, 83.83s/it]\n",
      "                   all         20          0          0          0          0          0\n",
      "WARNING  no labels found in detect set, can not compute metrics without labels\n",
      "Speed: 3.9ms preprocess, 3923.0ms inference, 0.0ms loss, 17.1ms postprocess per image\n",
      "Results saved to \u001b[1md:\\Coding\\Projects\\number-plate-recognition\\runs\\detect\\train9\u001b[0m\n"
     ]
    }
   ],
   "source": [
    "# Load a model\n",
    "model = YOLO(\"yolov8x-oiv7.pt\")  # build a new model from scratch\n",
    "\n",
    "# Use the model\n",
    "result = model.train(data=\"config.yaml\", epochs=1)  # train the model"
   ]
  },
  {
   "cell_type": "code",
   "execution_count": 3,
   "metadata": {},
   "outputs": [
    {
     "name": "stderr",
     "output_type": "stream",
     "text": [
      "Ultralytics YOLOv8.0.202  Python-3.9.7 torch-2.1.0+cu121 CPU (AMD Ryzen 7 3750H with Radeon Vega Mobile Gfx)\n",
      "YOLOv8x summary (fused): 268 layers, 68124531 parameters, 0 gradients, 257.4 GFLOPs\n",
      "\u001b[34m\u001b[1mval: \u001b[0mScanning D:\\Coding\\Projects\\number-plate-recognition\\dataset\\labels\\test.cache... 0 images, 20 backgrounds, 0 corrupt: 100%|██████████| 20/20 [00:00<?, ?it/s]\n",
      "\u001b[34m\u001b[1mval: \u001b[0mWARNING  D:\\Coding\\Projects\\number-plate-recognition\\dataset\\images\\test\\K1_AA5122OK.jpg: corrupt JPEG restored and saved\n",
      "\u001b[34m\u001b[1mval: \u001b[0mWARNING  D:\\Coding\\Projects\\number-plate-recognition\\dataset\\images\\test\\K1_AA5186HC.jpg: corrupt JPEG restored and saved\n",
      "\u001b[34m\u001b[1mval: \u001b[0mWARNING  D:\\Coding\\Projects\\number-plate-recognition\\dataset\\images\\test\\K1_AA5586FB.jpg: corrupt JPEG restored and saved\n",
      "\u001b[34m\u001b[1mval: \u001b[0mWARNING  D:\\Coding\\Projects\\number-plate-recognition\\dataset\\images\\test\\K1_AA5948JY.jpg: corrupt JPEG restored and saved\n",
      "\u001b[34m\u001b[1mval: \u001b[0mWARNING  D:\\Coding\\Projects\\number-plate-recognition\\dataset\\images\\test\\K1_AA6399RP.jpg: corrupt JPEG restored and saved\n",
      "\u001b[34m\u001b[1mval: \u001b[0mWARNING  D:\\Coding\\Projects\\number-plate-recognition\\dataset\\images\\test\\K2_AA66740NY.jpg: corrupt JPEG restored and saved\n",
      "\u001b[34m\u001b[1mval: \u001b[0mWARNING  D:\\Coding\\Projects\\number-plate-recognition\\dataset\\images\\test\\K2_AB2169TE.jpg: corrupt JPEG restored and saved\n",
      "\u001b[34m\u001b[1mval: \u001b[0mWARNING  D:\\Coding\\Projects\\number-plate-recognition\\dataset\\images\\test\\K2_AB2185YR.jpg: corrupt JPEG restored and saved\n",
      "\u001b[34m\u001b[1mval: \u001b[0mWARNING  D:\\Coding\\Projects\\number-plate-recognition\\dataset\\images\\test\\K2_AB2217KE.jpg: corrupt JPEG restored and saved\n",
      "\u001b[34m\u001b[1mval: \u001b[0mWARNING  D:\\Coding\\Projects\\number-plate-recognition\\dataset\\images\\test\\K3_AA1920FA.jpg: corrupt JPEG restored and saved\n",
      "\u001b[34m\u001b[1mval: \u001b[0mWARNING  D:\\Coding\\Projects\\number-plate-recognition\\dataset\\images\\test\\K3_AA8442YV.jpg: corrupt JPEG restored and saved\n",
      "\u001b[34m\u001b[1mval: \u001b[0mWARNING  D:\\Coding\\Projects\\number-plate-recognition\\dataset\\images\\test\\K3_AA8452UF.jpg: corrupt JPEG restored and saved\n",
      "\u001b[34m\u001b[1mval: \u001b[0mWARNING  D:\\Coding\\Projects\\number-plate-recognition\\dataset\\images\\test\\K4_AB1037NW.jpg: corrupt JPEG restored and saved\n",
      "\u001b[34m\u001b[1mval: \u001b[0mWARNING  D:\\Coding\\Projects\\number-plate-recognition\\dataset\\images\\test\\K4_AB1085FJ.jpg: corrupt JPEG restored and saved\n",
      "WARNING  No labels found in D:\\Coding\\Projects\\number-plate-recognition\\dataset\\labels\\test.cache, training may not work correctly. See https://docs.ultralytics.com/datasets/detect for dataset formatting guidance.\n",
      "                 Class     Images  Instances      Box(P          R      mAP50  mAP50-95): 100%|██████████| 2/2 [01:18<00:00, 39.33s/it]\n",
      "                   all         20          0          0          0          0          0\n",
      "WARNING  no labels found in detect set, can not compute metrics without labels\n",
      "Speed: 4.1ms preprocess, 3641.6ms inference, 0.0ms loss, 13.4ms postprocess per image\n",
      "Results saved to \u001b[1md:\\Coding\\Projects\\number-plate-recognition\\runs\\detect\\train92\u001b[0m\n"
     ]
    }
   ],
   "source": [
    "metrics = model.val()  # evaluate model performance on the validation set"
   ]
  },
  {
   "cell_type": "code",
   "execution_count": 4,
   "metadata": {},
   "outputs": [
    {
     "name": "stderr",
     "output_type": "stream",
     "text": [
      "\n",
      "image 1/1 D:\\Coding\\Projects\\number-plate-recognition\\data\\K1_G6853EQ.jpg: 640x384 1 plat-nomor, 2007.1ms\n",
      "Speed: 6.0ms preprocess, 2007.1ms inference, 1.0ms postprocess per image at shape (1, 3, 640, 384)\n",
      "Ultralytics YOLOv8.0.202  Python-3.9.7 torch-2.1.0+cu121 CPU (AMD Ryzen 7 3750H with Radeon Vega Mobile Gfx)\n",
      "\n",
      "\u001b[34m\u001b[1mPyTorch:\u001b[0m starting from 'd:\\Coding\\Projects\\number-plate-recognition\\runs\\detect\\train9\\weights\\best.pt' with input shape (1, 3, 640, 640) BCHW and output shape(s) (1, 5, 8400) (130.4 MB)\n",
      "\n",
      "\u001b[34m\u001b[1mONNX:\u001b[0m starting export with onnx 1.15.0 opset 17...\n",
      "\u001b[34m\u001b[1mONNX:\u001b[0m export success  6.7s, saved as 'd:\\Coding\\Projects\\number-plate-recognition\\runs\\detect\\train9\\weights\\best.onnx' (260.1 MB)\n",
      "\n",
      "Export complete (14.1s)\n",
      "Results saved to \u001b[1mD:\\Coding\\Projects\\number-plate-recognition\\runs\\detect\\train9\\weights\u001b[0m\n",
      "Predict:         yolo predict task=detect model=d:\\Coding\\Projects\\number-plate-recognition\\runs\\detect\\train9\\weights\\best.onnx imgsz=640  \n",
      "Validate:        yolo val task=detect model=d:\\Coding\\Projects\\number-plate-recognition\\runs\\detect\\train9\\weights\\best.onnx imgsz=640 data=config.yaml  \n",
      "Visualize:       https://netron.app\n"
     ]
    }
   ],
   "source": [
    "res_predict = model(\"D:/Coding/Projects/number-plate-recognition/data/K1_G6853EQ.jpg\")  # predict on an image\n",
    "path = model.export(format=\"onnx\")  # export the model to ONNX format\n",
    "# path = model.export(format=\"torchscript\")  # export the model to ONNX format"
   ]
  },
  {
   "cell_type": "code",
   "execution_count": 5,
   "metadata": {},
   "outputs": [
    {
     "data": {
      "text/plain": [
       "[ultralytics.engine.results.Results object with attributes:\n",
       " \n",
       " boxes: ultralytics.engine.results.Boxes object\n",
       " keypoints: None\n",
       " masks: None\n",
       " names: {0: 'plat-nomor'}\n",
       " orig_img: array([[[244, 245, 241],\n",
       "         [244, 245, 241],\n",
       "         [244, 245, 241],\n",
       "         ...,\n",
       "         [ 35,  33,  32],\n",
       "         [ 37,  35,  34],\n",
       "         [ 36,  34,  33]],\n",
       " \n",
       "        [[243, 244, 240],\n",
       "         [243, 244, 240],\n",
       "         [243, 244, 240],\n",
       "         ...,\n",
       "         [ 34,  32,  31],\n",
       "         [ 37,  35,  34],\n",
       "         [ 37,  35,  34]],\n",
       " \n",
       "        [[244, 245, 241],\n",
       "         [243, 244, 240],\n",
       "         [243, 244, 240],\n",
       "         ...,\n",
       "         [ 32,  33,  31],\n",
       "         [ 34,  35,  33],\n",
       "         [ 34,  35,  33]],\n",
       " \n",
       "        ...,\n",
       " \n",
       "        [[ 67,  73,  80],\n",
       "         [ 67,  73,  80],\n",
       "         [ 70,  76,  83],\n",
       "         ...,\n",
       "         [121, 124, 128],\n",
       "         [116, 119, 123],\n",
       "         [105, 108, 112]],\n",
       " \n",
       "        [[ 60,  66,  73],\n",
       "         [ 59,  65,  72],\n",
       "         [ 63,  69,  76],\n",
       "         ...,\n",
       "         [118, 121, 125],\n",
       "         [115, 118, 122],\n",
       "         [107, 110, 114]],\n",
       " \n",
       "        [[ 55,  61,  68],\n",
       "         [ 50,  56,  63],\n",
       "         [ 55,  61,  68],\n",
       "         ...,\n",
       "         [127, 130, 134],\n",
       "         [121, 124, 128],\n",
       "         [109, 112, 116]]], dtype=uint8)\n",
       " orig_shape: (4000, 2252)\n",
       " path: 'D:\\\\Coding\\\\Projects\\\\number-plate-recognition\\\\data\\\\K1_G6853EQ.jpg'\n",
       " probs: None\n",
       " save_dir: None\n",
       " speed: {'preprocess': 6.003141403198242, 'inference': 2007.1465969085693, 'postprocess': 0.9992122650146484}]"
      ]
     },
     "execution_count": 5,
     "metadata": {},
     "output_type": "execute_result"
    }
   ],
   "source": [
    "res_predict"
   ]
  },
  {
   "cell_type": "markdown",
   "metadata": {},
   "source": [
    "### Predict\n"
   ]
  },
  {
   "cell_type": "code",
   "execution_count": 14,
   "metadata": {},
   "outputs": [],
   "source": [
    "import cv2\n",
    "from matplotlib import pyplot as plt"
   ]
  },
  {
   "cell_type": "code",
   "execution_count": 15,
   "metadata": {},
   "outputs": [],
   "source": [
    "model = YOLO(\"D:/Coding/Projects/number-plate-recognition/code/yolov8x-oiv7.pt\")  # load a pretrained model (recommended for training)"
   ]
  },
  {
   "cell_type": "code",
   "execution_count": 22,
   "metadata": {},
   "outputs": [
    {
     "name": "stderr",
     "output_type": "stream",
     "text": [
      "WARNING  'source' is missing. Using 'source=D:\\Coding\\Projects\\number-plate-recognition\\env\\Lib\\site-packages\\ultralytics\\assets'.\n",
      "\n",
      "image 1/2 D:\\Coding\\Projects\\number-plate-recognition\\env\\Lib\\site-packages\\ultralytics\\assets\\bus.jpg: 640x480 1 Bus, 5 Footwears, 2 Jeanss, 4 Mans, 1 Woman, 2395.2ms\n",
      "image 2/2 D:\\Coding\\Projects\\number-plate-recognition\\env\\Lib\\site-packages\\ultralytics\\assets\\zidane.jpg: 384x640 2 Human faces, 2 Mans, 2 Suits, 1951.1ms\n",
      "Speed: 3.5ms preprocess, 2173.2ms inference, 10.0ms postprocess per image at shape (1, 3, 384, 640)\n"
     ]
    },
    {
     "data": {
      "text/plain": [
       "<matplotlib.image.AxesImage at 0x1998999c0d0>"
      ]
     },
     "execution_count": 22,
     "metadata": {},
     "output_type": "execute_result"
    }
   ],
   "source": [
    "# Load image\n",
    "path_image = \"D:/Coding/Projects/number-plate-recognition/data/K1_G6853EQ.jpg\"\n",
    "img = cv2.imread(path_image)\n",
    "img_size = img.shape[0:2]\n",
    "\n",
    "# Predict plat\n",
    "results = model()[0]\n",
    "\n",
    "# Draw rectangle\n",
    "for result in results.boxes.data.tolist():\n",
    "    x1, y1, x2, y2, score, class_id = result\n",
    "    cv2.rectangle(img, (int(x1), int(y1)), (int(x2), int(y2)), (0, 255, 0), 4)\n",
    "    cv2.putText(img, results.names[int(class_id)].upper(), (int(x1), int(y1 - 10)),\n",
    "            cv2.FONT_HERSHEY_SIMPLEX, 1.3, (0, 255, 0), 3, cv2.LINE_AA)\n",
    "\n",
    "# Show image\n",
    "# cv2.namedWindow('image', cv2.WINDOW_NORMAL)  # WINDOW_NORMAL memungkinkan pengubahan ukuran jendela\n",
    "plt.imshow(cv2.cvtColor(img, cv2.COLOR_BGR2RGB))\n",
    "# cv2.imshow('image', img)\n",
    "# cv2.waitKey(0)\n",
    "# cv2.destroyAllWindows()"
   ]
  },
  {
   "cell_type": "code",
   "execution_count": 23,
   "metadata": {},
   "outputs": [
    {
     "ename": "error",
     "evalue": "OpenCV(4.8.0) D:\\a\\opencv-python\\opencv-python\\opencv\\modules\\highgui\\src\\window.cpp:1272: error: (-2:Unspecified error) The function is not implemented. Rebuild the library with Windows, GTK+ 2.x or Cocoa support. If you are on Ubuntu or Debian, install libgtk2.0-dev and pkg-config, then re-run cmake or configure script in function 'cvShowImage'\n",
     "output_type": "error",
     "traceback": [
      "\u001b[1;31m---------------------------------------------------------------------------\u001b[0m",
      "\u001b[1;31merror\u001b[0m                                     Traceback (most recent call last)",
      "\u001b[1;32md:\\Coding\\Projects\\number-plate-recognition\\code\\Test 3 - OD using YOLO v8.ipynb Cell 11\u001b[0m line \u001b[0;36m1\n\u001b[1;32m----> <a href='vscode-notebook-cell:/d%3A/Coding/Projects/number-plate-recognition/code/Test%203%20-%20OD%20using%20YOLO%20v8.ipynb#X14sZmlsZQ%3D%3D?line=0'>1</a>\u001b[0m cv2\u001b[39m.\u001b[39;49mimshow(\u001b[39m'\u001b[39;49m\u001b[39mimage\u001b[39;49m\u001b[39m'\u001b[39;49m, img)\n\u001b[0;32m      <a href='vscode-notebook-cell:/d%3A/Coding/Projects/number-plate-recognition/code/Test%203%20-%20OD%20using%20YOLO%20v8.ipynb#X14sZmlsZQ%3D%3D?line=1'>2</a>\u001b[0m cv2\u001b[39m.\u001b[39mwaitKey(\u001b[39m0\u001b[39m)\n\u001b[0;32m      <a href='vscode-notebook-cell:/d%3A/Coding/Projects/number-plate-recognition/code/Test%203%20-%20OD%20using%20YOLO%20v8.ipynb#X14sZmlsZQ%3D%3D?line=2'>3</a>\u001b[0m cv2\u001b[39m.\u001b[39mdestroyAllWindows()\n",
      "File \u001b[1;32md:\\Coding\\Projects\\number-plate-recognition\\env\\lib\\site-packages\\ultralytics\\utils\\patches.py:55\u001b[0m, in \u001b[0;36mimshow\u001b[1;34m(winname, mat)\u001b[0m\n\u001b[0;32m     47\u001b[0m \u001b[39mdef\u001b[39;00m \u001b[39mimshow\u001b[39m(winname: \u001b[39mstr\u001b[39m, mat: np\u001b[39m.\u001b[39mndarray):\n\u001b[0;32m     48\u001b[0m \u001b[39m    \u001b[39m\u001b[39m\"\"\"\u001b[39;00m\n\u001b[0;32m     49\u001b[0m \u001b[39m    Displays an image in the specified window.\u001b[39;00m\n\u001b[0;32m     50\u001b[0m \n\u001b[1;32m   (...)\u001b[0m\n\u001b[0;32m     53\u001b[0m \u001b[39m        mat (np.ndarray): Image to be shown.\u001b[39;00m\n\u001b[0;32m     54\u001b[0m \u001b[39m    \"\"\"\u001b[39;00m\n\u001b[1;32m---> 55\u001b[0m     _imshow(winname\u001b[39m.\u001b[39;49mencode(\u001b[39m'\u001b[39;49m\u001b[39municode_escape\u001b[39;49m\u001b[39m'\u001b[39;49m)\u001b[39m.\u001b[39;49mdecode(), mat)\n",
      "\u001b[1;31merror\u001b[0m: OpenCV(4.8.0) D:\\a\\opencv-python\\opencv-python\\opencv\\modules\\highgui\\src\\window.cpp:1272: error: (-2:Unspecified error) The function is not implemented. Rebuild the library with Windows, GTK+ 2.x or Cocoa support. If you are on Ubuntu or Debian, install libgtk2.0-dev and pkg-config, then re-run cmake or configure script in function 'cvShowImage'\n"
     ]
    }
   ],
   "source": [
    "cv2.imshow('image', img)\n",
    "cv2.waitKey(0)\n",
    "cv2.destroyAllWindows()"
   ]
  }
 ],
 "metadata": {
  "kernelspec": {
   "display_name": "env",
   "language": "python",
   "name": "python3"
  },
  "language_info": {
   "codemirror_mode": {
    "name": "ipython",
    "version": 3
   },
   "file_extension": ".py",
   "mimetype": "text/x-python",
   "name": "python",
   "nbconvert_exporter": "python",
   "pygments_lexer": "ipython3",
   "version": "3.9.7"
  }
 },
 "nbformat": 4,
 "nbformat_minor": 2
}
