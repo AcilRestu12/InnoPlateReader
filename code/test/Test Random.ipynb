{
 "cells": [
  {
   "cell_type": "code",
   "execution_count": 58,
   "metadata": {},
   "outputs": [],
   "source": [
    "import os\n",
    "import shutil\n",
    "from datetime import datetime, timedelta\n"
   ]
  },
  {
   "cell_type": "code",
   "execution_count": 59,
   "metadata": {},
   "outputs": [],
   "source": [
    "def create_dir(base_dir):\n",
    "    # Tanggal hari ini\n",
    "    today = datetime.now()\n",
    "    today_dir_name = today.strftime('%d-%m-%Y')\n",
    "    today_dir_path = os.path.join(base_dir, today_dir_name)\n",
    "    \n",
    "    # Tanggal 10 hari yang lalu\n",
    "    ten_days_ago = today - timedelta(days=10)\n",
    "\n",
    "    # Cek semua direktori di base_dir\n",
    "    for dir_name in os.listdir(base_dir):\n",
    "        dir_path = os.path.join(base_dir, dir_name)\n",
    "        \n",
    "        if os.path.isdir(dir_path):\n",
    "            try:\n",
    "                dir_date = datetime.strptime(dir_name, '%d-%m-%Y')\n",
    "                # Hapus direktori yang lebih dari 10 hari yang lalu\n",
    "                if dir_date < ten_days_ago:\n",
    "                    shutil.rmtree(dir_path)\n",
    "                    print(f\"Direktori {dir_name} telah dihapus.\")\n",
    "            except ValueError:\n",
    "                # Jika nama direktori tidak sesuai format tanggal, lewati\n",
    "                continue\n",
    "    \n",
    "    # Buat direktori untuk hari ini jika belum ada\n",
    "    if not os.path.exists(today_dir_path):\n",
    "        os.makedirs(today_dir_path)\n",
    "        print(f\"Direktori {today_dir_name} telah dibuat.\")\n",
    "    else:\n",
    "        print(f\"Direktori {today_dir_name} sudah ada.\")\n",
    "\n",
    "    return today_dir_name"
   ]
  },
  {
   "cell_type": "code",
   "execution_count": 62,
   "metadata": {},
   "outputs": [
    {
     "data": {
      "text/plain": [
       "'d:\\\\Coding\\\\Projects\\\\InnoPlateReader\\\\code\\\\test\\\\static\\\\training'"
      ]
     },
     "execution_count": 62,
     "metadata": {},
     "output_type": "execute_result"
    }
   ],
   "source": [
    "basedirTraining = os.path.join(os.getcwd(), 'static', 'training')\n",
    "basedirTraining"
   ]
  },
  {
   "cell_type": "code",
   "execution_count": 65,
   "metadata": {},
   "outputs": [
    {
     "name": "stdout",
     "output_type": "stream",
     "text": [
      "Before : static\\training\n",
      "After : d:\\Coding\\Projects\\InnoPlateReader\\code\\test\\static\\training\n"
     ]
    }
   ],
   "source": [
    "basedirTraining = os.path.join('static', 'training')\n",
    "print(f'Before : {basedirTraining}')\n",
    "basedirTraining = os.path.join(os.getcwd(), basedirTraining)\n",
    "print(f'After : {basedirTraining}')"
   ]
  },
  {
   "cell_type": "code",
   "execution_count": 18,
   "metadata": {},
   "outputs": [
    {
     "name": "stdout",
     "output_type": "stream",
     "text": [
      "date : 26-07-2024\n",
      "time : 3-27-44\n",
      "new_filename : K4_H1753FO_26-07-2024_3-27-44.csv\n"
     ]
    }
   ],
   "source": [
    "filename = 'K4_H1753FO.jpg'\n",
    "\n",
    "date = f'{str(datetime.now().day)}-{str(datetime.now().strftime(\"%m\"))}-{str(datetime.now().year)}'\n",
    "time = f'{str(datetime.now().hour)}-{str(datetime.now().minute)}-{str(datetime.now().second)}'\n",
    "new_filename = f'{filename.split(\".\")[0]}_{date}_{time}.csv'\n",
    "\n",
    "print(f'date : {date}')\n",
    "print(f'time : {time}')\n",
    "print(f'new_filename : {new_filename}')"
   ]
  },
  {
   "cell_type": "code",
   "execution_count": 35,
   "metadata": {},
   "outputs": [
    {
     "data": {
      "text/plain": [
       "'d:\\\\Coding\\\\Projects\\\\InnoPlateReader\\\\code\\\\test'"
      ]
     },
     "execution_count": 35,
     "metadata": {},
     "output_type": "execute_result"
    }
   ],
   "source": [
    "os.getcwd()"
   ]
  },
  {
   "cell_type": "code",
   "execution_count": 34,
   "metadata": {},
   "outputs": [
    {
     "data": {
      "text/plain": [
       "26"
      ]
     },
     "execution_count": 34,
     "metadata": {},
     "output_type": "execute_result"
    }
   ],
   "source": [
    "day = datetime.now().day\n",
    "month = datetime.now().strftime(\"%m\")\n",
    "year = datetime.now().year\n",
    "date_now = f'{str(datetime.now().day)}-{str(datetime.now().strftime(\"%m\"))}-{str(datetime.now().year)}'\n",
    "print(f'date_now : {date_now}')\n"
   ]
  },
  {
   "cell_type": "code",
   "execution_count": 57,
   "metadata": {},
   "outputs": [
    {
     "name": "stdout",
     "output_type": "stream",
     "text": [
      "Direktori 15-07-2024 telah dihapus.\n",
      "Direktori 16-07-2024 telah dihapus.\n",
      "Direktori 26-07-2024 sudah ada.\n"
     ]
    }
   ],
   "source": [
    "\n",
    "def manage_directories():\n",
    "    # Tentukan path direktori utama (ganti dengan path yang diinginkan)\n",
    "    base_dir = os.getcwd()\n",
    "    \n",
    "    # Tanggal hari ini\n",
    "    today = datetime.now()\n",
    "    today_dir_name = today.strftime('%d-%m-%Y')\n",
    "    today_dir_path = os.path.join(base_dir, today_dir_name)\n",
    "    \n",
    "    # Tanggal 10 hari yang lalu\n",
    "    ten_days_ago = today - timedelta(days=10)\n",
    "\n",
    "    # Cek semua direktori di base_dir\n",
    "    for dir_name in os.listdir(base_dir):\n",
    "        dir_path = os.path.join(base_dir, dir_name)\n",
    "        \n",
    "        if os.path.isdir(dir_path):\n",
    "            try:\n",
    "                dir_date = datetime.strptime(dir_name, '%d-%m-%Y')\n",
    "                # Hapus direktori yang lebih dari 10 hari yang lalu\n",
    "                if dir_date < ten_days_ago:\n",
    "                    shutil.rmtree(dir_path)\n",
    "                    print(f\"Direktori {dir_name} telah dihapus.\")\n",
    "            except ValueError:\n",
    "                # Jika nama direktori tidak sesuai format tanggal, lewati\n",
    "                continue\n",
    "    \n",
    "    # Buat direktori untuk hari ini jika belum ada\n",
    "    if not os.path.exists(today_dir_path):\n",
    "        os.makedirs(today_dir_path)\n",
    "        print(f\"Direktori {today_dir_name} telah dibuat.\")\n",
    "    else:\n",
    "        print(f\"Direktori {today_dir_name} sudah ada.\")\n",
    "\n",
    "# Jalankan fungsi\n",
    "manage_directories()"
   ]
  },
  {
   "cell_type": "code",
   "execution_count": 56,
   "metadata": {},
   "outputs": [
    {
     "name": "stdout",
     "output_type": "stream",
     "text": [
      "Directory '16-07-2024' created successfully\n"
     ]
    }
   ],
   "source": [
    "# Python program to explain os.makedirs() method \n",
    "  \n",
    "# os.makedirs() method will raise \n",
    "# an OSError if the directory \n",
    "# to be created already exists \n",
    "# But It can be suppressed by \n",
    "# setting the value of a parameter \n",
    "# exist_ok as True \n",
    "\n",
    "n_before = 10\n",
    "date_now = f'{str(datetime.now().day - n_before)}-{str(datetime.now().strftime(\"%m\"))}-{str(datetime.now().year)}'\n",
    "  \n",
    "# Directory \n",
    "  \n",
    "# Parent Directory path \n",
    "# parent_dir = \"codes\"\n",
    "  \n",
    "# Path \n",
    "# path = os.path.join(parent_dir, date_now) \n",
    "path = date_now\n",
    "  \n",
    "# Create the directory \n",
    "# 'Nikhil' \n",
    "try: \n",
    "    os.makedirs(path, exist_ok = True) \n",
    "    print(\"Directory '%s' created successfully\" % date_now) \n",
    "except OSError as error: \n",
    "    print(\"Directory '%s' can not be created\" % date_now) \n",
    "  \n",
    "# By setting exist_ok as True \n",
    "# error caused due already \n",
    "# existing directory can be suppressed \n",
    "# but other OSError may be raised \n",
    "# due to other error like \n",
    "# invalid path name "
   ]
  },
  {
   "cell_type": "code",
   "execution_count": 17,
   "metadata": {},
   "outputs": [
    {
     "name": "stdout",
     "output_type": "stream",
     "text": [
      "2024-07-26 03:26:26.235141\n",
      "2024\n",
      "07\n"
     ]
    }
   ],
   "source": [
    "x = datetime.now()\n",
    "print(x)\n",
    "print(x.year)\n",
    "print(x.strftime(\"%m\"))"
   ]
  },
  {
   "cell_type": "code",
   "execution_count": 16,
   "metadata": {},
   "outputs": [
    {
     "data": {
      "text/plain": [
       "'d:\\\\Coding\\\\Projects\\\\InnoPlateReader\\\\code\\\\test'"
      ]
     },
     "execution_count": 16,
     "metadata": {},
     "output_type": "execute_result"
    }
   ],
   "source": [
    "basedir = os.path.abspath(os.path.dirname(p=\"0\"))\n",
    "basedir"
   ]
  },
  {
   "cell_type": "code",
   "execution_count": 12,
   "metadata": {},
   "outputs": [],
   "source": [
    "FILEPATH_PREDICT = {\n",
    "    'original' : None,\n",
    "    'object_detection' : None,\n",
    "    'crop_object' : None,\n",
    "    'text_detection' : None\n",
    "}"
   ]
  },
  {
   "cell_type": "code",
   "execution_count": 13,
   "metadata": {},
   "outputs": [
    {
     "name": "stdout",
     "output_type": "stream",
     "text": [
      "None\n"
     ]
    }
   ],
   "source": [
    "print(FILEPATH_PREDICT['original'])"
   ]
  },
  {
   "cell_type": "code",
   "execution_count": 14,
   "metadata": {},
   "outputs": [
    {
     "data": {
      "text/plain": [
       "'data\\\\K1_AD6579AKG.jpg'"
      ]
     },
     "execution_count": 14,
     "metadata": {},
     "output_type": "execute_result"
    }
   ],
   "source": [
    "FILEPATH_PREDICT['original'] = 'data\\K1_AD6579AKG.jpg'\n",
    "FILEPATH_PREDICT['original']"
   ]
  },
  {
   "cell_type": "code",
   "execution_count": 15,
   "metadata": {},
   "outputs": [
    {
     "data": {
      "text/plain": [
       "'static\\\\images\\\\predict\\\\OB_K1_AD6579AKG.jpg'"
      ]
     },
     "execution_count": 15,
     "metadata": {},
     "output_type": "execute_result"
    }
   ],
   "source": [
    "basedirPredict = 'static\\images\\predict'\n",
    "filename = 'K1_AD6579AKG.jpg'\n",
    "pathImgOb = os.path.join(basedirPredict, 'OB_' + filename)\n",
    "pathImgOb"
   ]
  }
 ],
 "metadata": {
  "kernelspec": {
   "display_name": "env",
   "language": "python",
   "name": "python3"
  },
  "language_info": {
   "codemirror_mode": {
    "name": "ipython",
    "version": 3
   },
   "file_extension": ".py",
   "mimetype": "text/x-python",
   "name": "python",
   "nbconvert_exporter": "python",
   "pygments_lexer": "ipython3",
   "version": "3.9.7"
  }
 },
 "nbformat": 4,
 "nbformat_minor": 2
}
